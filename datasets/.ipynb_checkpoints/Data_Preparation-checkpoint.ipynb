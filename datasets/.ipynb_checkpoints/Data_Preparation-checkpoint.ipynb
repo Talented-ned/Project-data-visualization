{
 "cells": [
  {
   "cell_type": "code",
   "execution_count": 2,
   "metadata": {},
   "outputs": [],
   "source": [
    "import pandas as pd\n",
    "import datetime as dt\n",
    "\n",
    "mydateparser = lambda x: dt.datetime.strptime(x, \"%Y-%m-%d %H:%M:%S\")\n",
    "\n",
    "account_id_type = dict()\n",
    "\n",
    "account_id_type = {'account_id': str,\n",
    "                   'post_id': str}\n",
    "\n",
    "fb_type = {'account_id': str,\n",
    "           'account_username': str,\n",
    "           'fan': str,\n",
    "           'post_id': str}\n",
    "\n",
    "#Facebook\n",
    "df_fb1 = pd.read_csv(\"Facebook_Data_Q1.csv\", dtype=fb_type, parse_dates=['created_at'], date_parser=mydateparser)\n",
    "df_fb2 = pd.read_csv(\"Facebook_Data_Q2.csv\", dtype=fb_type, parse_dates=['created_at'], date_parser=mydateparser)\n",
    "df_fb3 = pd.read_csv(\"Facebook_Data_Q3.csv\", dtype=fb_type, parse_dates=['created_at'], date_parser=mydateparser)\n",
    "df_fb4 = pd.read_csv(\"Facebook_Data_Q4.csv\", dtype=fb_type, parse_dates=['created_at'], date_parser=mydateparser)\n",
    "df_fb = df_fb1.append(df_fb2, ignore_index = True)\n",
    "df_fb = df_fb.append(df_fb3, ignore_index = True)\n",
    "df_fb = df_fb.append(df_fb4, ignore_index = True)\n",
    "\n",
    "#IG, TW, YT\n",
    "df_ig = pd.read_csv(\"Instagram_Data.csv\", dtype=account_id_type, parse_dates=['created_at'], date_parser=mydateparser)\n",
    "df_tw = pd.read_csv(\"Twitter_Data.csv\", dtype=account_id_type, parse_dates=['created_at'], date_parser=mydateparser)\n",
    "df_yt = pd.read_csv(\"YouTube_Data.csv\", dtype=account_id_type, parse_dates=['created_at'], date_parser=mydateparser)\n",
    "\n",
    "# Sunburst\n",
    "df_sunburst = pd.read_csv('df_sunburst.csv', encoding='utf-8')\n",
    "\n",
    "# fb_cat_fanrange_funnel\n",
    "df_cat_fanrange = pd.read_csv('FB_cat_fanrange_funnel.csv', encoding='utf-8')\n",
    "\n",
    "\n"
   ]
  },
  {
   "cell_type": "code",
   "execution_count": 3,
   "metadata": {},
   "outputs": [
    {
     "name": "stdout",
     "output_type": "stream",
     "text": [
      "<class 'pandas.core.frame.DataFrame'>\n",
      "Int64Index: 4087162 entries, 0 to 4087238\n",
      "Data columns (total 13 columns):\n",
      " #   Column                Non-Null Count    Dtype         \n",
      "---  ------                --------------    -----         \n",
      " 0   post_id               4087162 non-null  object        \n",
      " 1   channel               4087162 non-null  object        \n",
      " 2   account_id            4087162 non-null  object        \n",
      " 3   account_username      832211 non-null   object        \n",
      " 4   account_display_name  4080641 non-null  object        \n",
      " 5   link                  4087047 non-null  object        \n",
      " 6   created_at            4087162 non-null  datetime64[ns]\n",
      " 7   message               2647164 non-null  object        \n",
      " 8   new_engagement        4087162 non-null  int64         \n",
      " 9   positive              4087162 non-null  int64         \n",
      " 10  neutral               4087162 non-null  int64         \n",
      " 11  negative              4087162 non-null  int64         \n",
      " 12  fan                   4087162 non-null  int64         \n",
      "dtypes: datetime64[ns](1), int64(5), object(7)\n",
      "memory usage: 436.6+ MB\n"
     ]
    }
   ],
   "source": [
    "# calculate new engagement each channel\n",
    "df_fb['new_engagement'] = df_fb['engagement']\n",
    "df_ig['new_engagement'] = df_ig[['like', 'comment','view','share_on_facebook']].apply(sum, axis=1)\n",
    "df_tw['new_engagement'] = df_tw[['favorite', 'retweet','share_on_facebook','reply']].apply(sum, axis=1)\n",
    "df_yt['new_engagement'] = df_yt[['like', 'dislike','favorite','comment','view','share_on_facebook']].apply(sum, axis=1)\n",
    "\n",
    "# combine 14 column of 4 channel to 1 dataframe\n",
    "selected_column = ['post_id', 'channel', 'account_id', \\\n",
    "    'account_username', 'account_display_name', 'link', \\\n",
    "    'created_at', 'message', 'new_engagement', 'positive', 'neutral', 'negative', 'fan']\n",
    "\n",
    "df_all = df_fb[selected_column].append(df_ig[selected_column], ignore_index = True)\n",
    "df_all = df_all.append(df_tw[selected_column], ignore_index = True)\n",
    "df_all = df_all.append(df_yt[selected_column], ignore_index = True)\n",
    "\n",
    "\n",
    "# Drop row that has '\\N'\n",
    "df_all = df_all[df_all['fan'] != '\\\\N']\n",
    "\n",
    "# change 'fan' column to int\n",
    "df_all['fan'] = df_all['fan'].astype('int64')\n",
    "df_all.info(verbose=True, show_counts=True)\n",
    "\n",
    "\n",
    "# create dataframe that contain account_id, account_display_name\n",
    "df_acc = df_all[['account_id','account_display_name']]\n",
    "df_acc = df_acc.drop_duplicates(subset='account_id', keep='last')\n",
    "\n",
    "# threshold for time range\n",
    "bins = list(range(0,25))\n",
    "\n",
    "time_range = [\"00:00\", \"01:00\", \"02:00\", \"03:00\", \"04:00\", \"05:00\", \"06:00\", \"07:00\", \"08:00\", \"09:00\",\n",
    "              \"10:00\", \"11:00\", \"12:00\", \"13:00\", \"14:00\", \"15:00\", \"16:00\", \"17:00\", \"18:00\", \"19:00\", \n",
    "              \"20:00\", \"21:00\", \"22:00\", \"23:00\"]\n",
    "\n",
    "# create new column to tell created time of each post?\n",
    "df_all['post_time_range'] = pd.cut(df_all.created_at.dt.hour,       \n",
    "                             bins, \n",
    "                             labels=time_range,  \n",
    "                             right=False)\n",
    "\n",
    "# create day column\n",
    "df_all['day'] = df_all['created_at'].dt.day_name()\n",
    "\n",
    "# Define column 'day' as categories type which order the seq of day name\n",
    "cats = [ 'Monday', 'Tuesday', 'Wednesday', 'Thursday', 'Friday', 'Saturday', 'Sunday']\n",
    "from pandas.api.types import CategoricalDtype\n",
    "cat_type = CategoricalDtype(categories=cats, ordered=True)\n",
    "df_all['day'] = df_all['day'].astype(cat_type)\n",
    "\n",
    "\n",
    "\n"
   ]
  },
  {
   "cell_type": "code",
   "execution_count": 30,
   "metadata": {},
   "outputs": [
    {
     "name": "stderr",
     "output_type": "stream",
     "text": [
      "/var/folders/zr/_h829tpn5zq19y29l_cbntzm0000gn/T/ipykernel_96364/4197504914.py:6: SettingWithCopyWarning: \n",
      "A value is trying to be set on a copy of a slice from a DataFrame.\n",
      "Try using .loc[row_indexer,col_indexer] = value instead\n",
      "\n",
      "See the caveats in the documentation: https://pandas.pydata.org/pandas-docs/stable/user_guide/indexing.html#returning-a-view-versus-a-copy\n",
      "  df_view_vs_fan['month'] = df_view_vs_fan['created_at'].dt.month_name()\n",
      "/var/folders/zr/_h829tpn5zq19y29l_cbntzm0000gn/T/ipykernel_96364/4197504914.py:11: SettingWithCopyWarning: \n",
      "A value is trying to be set on a copy of a slice from a DataFrame.\n",
      "Try using .loc[row_indexer,col_indexer] = value instead\n",
      "\n",
      "See the caveats in the documentation: https://pandas.pydata.org/pandas-docs/stable/user_guide/indexing.html#returning-a-view-versus-a-copy\n",
      "  df_view_vs_fan['month'] = df_view_vs_fan['month'].astype(cat_type)\n",
      "/var/folders/zr/_h829tpn5zq19y29l_cbntzm0000gn/T/ipykernel_96364/4197504914.py:15: FutureWarning: Indexing with multiple keys (implicitly converted to a tuple of keys) will be deprecated, use a list instead.\n",
      "  df_view_vs_fan = df_view_vs_fan.groupby(['account_display_name', 'month'])['view', 'fan'].agg({'view':'sum', 'fan': 'count'}).reset_index()\n",
      "/var/folders/zr/_h829tpn5zq19y29l_cbntzm0000gn/T/ipykernel_96364/4197504914.py:24: SettingWithCopyWarning: \n",
      "A value is trying to be set on a copy of a slice from a DataFrame.\n",
      "Try using .loc[row_indexer,col_indexer] = value instead\n",
      "\n",
      "See the caveats in the documentation: https://pandas.pydata.org/pandas-docs/stable/user_guide/indexing.html#returning-a-view-versus-a-copy\n",
      "  df_yt_fan['month'] = df_yt_fan['created_at'].dt.month_name()\n",
      "/var/folders/zr/_h829tpn5zq19y29l_cbntzm0000gn/T/ipykernel_96364/4197504914.py:29: SettingWithCopyWarning: \n",
      "A value is trying to be set on a copy of a slice from a DataFrame.\n",
      "Try using .loc[row_indexer,col_indexer] = value instead\n",
      "\n",
      "See the caveats in the documentation: https://pandas.pydata.org/pandas-docs/stable/user_guide/indexing.html#returning-a-view-versus-a-copy\n",
      "  df_yt_fan['month'] = df_yt_fan['month'].astype(cat_type)\n"
     ]
    },
    {
     "data": {
      "text/html": [
       "<div>\n",
       "<style scoped>\n",
       "    .dataframe tbody tr th:only-of-type {\n",
       "        vertical-align: middle;\n",
       "    }\n",
       "\n",
       "    .dataframe tbody tr th {\n",
       "        vertical-align: top;\n",
       "    }\n",
       "\n",
       "    .dataframe thead th {\n",
       "        text-align: right;\n",
       "    }\n",
       "</style>\n",
       "<table border=\"1\" class=\"dataframe\">\n",
       "  <thead>\n",
       "    <tr style=\"text-align: right;\">\n",
       "      <th></th>\n",
       "      <th>account_display_name</th>\n",
       "      <th>month</th>\n",
       "      <th>view</th>\n",
       "      <th>count</th>\n",
       "      <th>avg_view</th>\n",
       "      <th>created_at</th>\n",
       "      <th>fan</th>\n",
       "      <th>type_fan</th>\n",
       "    </tr>\n",
       "  </thead>\n",
       "  <tbody>\n",
       "    <tr>\n",
       "      <th>1656</th>\n",
       "      <td>Fiat</td>\n",
       "      <td>January</td>\n",
       "      <td>0.0</td>\n",
       "      <td>0.0</td>\n",
       "      <td>0.0</td>\n",
       "      <td>0</td>\n",
       "      <td>0.0</td>\n",
       "      <td>Silver</td>\n",
       "    </tr>\n",
       "    <tr>\n",
       "      <th>1657</th>\n",
       "      <td>Fiat</td>\n",
       "      <td>February</td>\n",
       "      <td>0.0</td>\n",
       "      <td>0.0</td>\n",
       "      <td>0.0</td>\n",
       "      <td>0</td>\n",
       "      <td>0.0</td>\n",
       "      <td>Silver</td>\n",
       "    </tr>\n",
       "    <tr>\n",
       "      <th>1658</th>\n",
       "      <td>Fiat</td>\n",
       "      <td>March</td>\n",
       "      <td>0.0</td>\n",
       "      <td>0.0</td>\n",
       "      <td>0.0</td>\n",
       "      <td>0</td>\n",
       "      <td>0.0</td>\n",
       "      <td>Silver</td>\n",
       "    </tr>\n",
       "    <tr>\n",
       "      <th>1659</th>\n",
       "      <td>Fiat</td>\n",
       "      <td>April</td>\n",
       "      <td>0.0</td>\n",
       "      <td>0.0</td>\n",
       "      <td>0.0</td>\n",
       "      <td>0</td>\n",
       "      <td>0.0</td>\n",
       "      <td>Silver</td>\n",
       "    </tr>\n",
       "    <tr>\n",
       "      <th>1660</th>\n",
       "      <td>Fiat</td>\n",
       "      <td>May</td>\n",
       "      <td>0.0</td>\n",
       "      <td>0.0</td>\n",
       "      <td>0.0</td>\n",
       "      <td>0</td>\n",
       "      <td>0.0</td>\n",
       "      <td>Silver</td>\n",
       "    </tr>\n",
       "    <tr>\n",
       "      <th>1661</th>\n",
       "      <td>Fiat</td>\n",
       "      <td>June</td>\n",
       "      <td>3697431.0</td>\n",
       "      <td>11.0</td>\n",
       "      <td>336130.0</td>\n",
       "      <td>2020-06-29 20:07:10</td>\n",
       "      <td>329000.0</td>\n",
       "      <td>Silver</td>\n",
       "    </tr>\n",
       "    <tr>\n",
       "      <th>1662</th>\n",
       "      <td>Fiat</td>\n",
       "      <td>July</td>\n",
       "      <td>6249890.0</td>\n",
       "      <td>16.0</td>\n",
       "      <td>390618.0</td>\n",
       "      <td>2020-07-31 20:05:42</td>\n",
       "      <td>329000.0</td>\n",
       "      <td>Silver</td>\n",
       "    </tr>\n",
       "    <tr>\n",
       "      <th>1663</th>\n",
       "      <td>Fiat</td>\n",
       "      <td>August</td>\n",
       "      <td>4413292.0</td>\n",
       "      <td>13.0</td>\n",
       "      <td>339484.0</td>\n",
       "      <td>2020-08-30 20:09:05</td>\n",
       "      <td>329000.0</td>\n",
       "      <td>Silver</td>\n",
       "    </tr>\n",
       "    <tr>\n",
       "      <th>1664</th>\n",
       "      <td>Fiat</td>\n",
       "      <td>September</td>\n",
       "      <td>3433960.0</td>\n",
       "      <td>13.0</td>\n",
       "      <td>264150.0</td>\n",
       "      <td>2020-09-30 20:20:44</td>\n",
       "      <td>329000.0</td>\n",
       "      <td>Silver</td>\n",
       "    </tr>\n",
       "    <tr>\n",
       "      <th>1665</th>\n",
       "      <td>Fiat</td>\n",
       "      <td>October</td>\n",
       "      <td>4801159.0</td>\n",
       "      <td>16.0</td>\n",
       "      <td>300072.0</td>\n",
       "      <td>2020-10-30 18:16:23</td>\n",
       "      <td>329000.0</td>\n",
       "      <td>Silver</td>\n",
       "    </tr>\n",
       "    <tr>\n",
       "      <th>1666</th>\n",
       "      <td>Fiat</td>\n",
       "      <td>November</td>\n",
       "      <td>3468645.0</td>\n",
       "      <td>16.0</td>\n",
       "      <td>216790.0</td>\n",
       "      <td>2020-11-30 20:58:28</td>\n",
       "      <td>329000.0</td>\n",
       "      <td>Silver</td>\n",
       "    </tr>\n",
       "    <tr>\n",
       "      <th>1667</th>\n",
       "      <td>Fiat</td>\n",
       "      <td>December</td>\n",
       "      <td>2519359.0</td>\n",
       "      <td>16.0</td>\n",
       "      <td>157459.0</td>\n",
       "      <td>2020-12-31 13:31:01</td>\n",
       "      <td>329000.0</td>\n",
       "      <td>Silver</td>\n",
       "    </tr>\n",
       "  </tbody>\n",
       "</table>\n",
       "</div>"
      ],
      "text/plain": [
       "     account_display_name      month       view  count  avg_view  \\\n",
       "1656                 Fiat    January        0.0    0.0       0.0   \n",
       "1657                 Fiat   February        0.0    0.0       0.0   \n",
       "1658                 Fiat      March        0.0    0.0       0.0   \n",
       "1659                 Fiat      April        0.0    0.0       0.0   \n",
       "1660                 Fiat        May        0.0    0.0       0.0   \n",
       "1661                 Fiat       June  3697431.0   11.0  336130.0   \n",
       "1662                 Fiat       July  6249890.0   16.0  390618.0   \n",
       "1663                 Fiat     August  4413292.0   13.0  339484.0   \n",
       "1664                 Fiat  September  3433960.0   13.0  264150.0   \n",
       "1665                 Fiat    October  4801159.0   16.0  300072.0   \n",
       "1666                 Fiat   November  3468645.0   16.0  216790.0   \n",
       "1667                 Fiat   December  2519359.0   16.0  157459.0   \n",
       "\n",
       "               created_at       fan type_fan  \n",
       "1656                    0       0.0   Silver  \n",
       "1657                    0       0.0   Silver  \n",
       "1658                    0       0.0   Silver  \n",
       "1659                    0       0.0   Silver  \n",
       "1660                    0       0.0   Silver  \n",
       "1661  2020-06-29 20:07:10  329000.0   Silver  \n",
       "1662  2020-07-31 20:05:42  329000.0   Silver  \n",
       "1663  2020-08-30 20:09:05  329000.0   Silver  \n",
       "1664  2020-09-30 20:20:44  329000.0   Silver  \n",
       "1665  2020-10-30 18:16:23  329000.0   Silver  \n",
       "1666  2020-11-30 20:58:28  329000.0   Silver  \n",
       "1667  2020-12-31 13:31:01  329000.0   Silver  "
      ]
     },
     "execution_count": 30,
     "metadata": {},
     "output_type": "execute_result"
    }
   ],
   "source": [
    "#Animated scatter plotter for avg view and fan\n",
    "df_view_vs_fan = df_yt[['account_display_name', 'view', 'created_at', 'fan']]\n",
    "\n",
    "# create month column\n",
    "df_view_vs_fan['month'] = df_view_vs_fan['created_at'].dt.month_name()\n",
    "\n",
    "month_cats = ['January', 'February', 'March', 'April', 'May', 'June', 'July', 'August', 'September', 'October', 'November', 'December']\n",
    "from pandas.api.types import CategoricalDtype\n",
    "cat_type = CategoricalDtype(categories=month_cats, ordered=True)\n",
    "df_view_vs_fan['month'] = df_view_vs_fan['month'].astype(cat_type)\n",
    "\n",
    "\n",
    "# Get avg_view\n",
    "df_view_vs_fan = df_view_vs_fan.groupby(['account_display_name', 'month'])['view', 'fan'].agg({'view':'sum', 'fan': 'count'}).reset_index()\n",
    "df_view_vs_fan = df_view_vs_fan.rename(columns={'fan':'count'})\n",
    "df_view_vs_fan['avg_view'] = df_view_vs_fan['view'] // df_view_vs_fan['count']\n",
    "\n",
    "df_yt_fan = df_yt[['account_display_name', 'created_at', 'fan']]\n",
    "\n",
    "# create month column\n",
    "df_yt_fan['month'] = df_yt_fan['created_at'].dt.month_name()\n",
    "\n",
    "month_cats = ['January', 'February', 'March', 'April', 'May', 'June', 'July', 'August', 'September', 'October', 'November', 'December']\n",
    "from pandas.api.types import CategoricalDtype\n",
    "cat_type = CategoricalDtype(categories=month_cats, ordered=True)\n",
    "df_yt_fan['month'] = df_yt_fan['month'].astype(cat_type)\n",
    "\n",
    "# Get latest fan\n",
    "df_yt_fan = df_yt_fan.sort_values(by=['account_display_name', 'month', 'created_at']).groupby(['account_display_name', 'month']).tail(1)\n",
    "\n",
    "\n",
    "# Merge dataframe\n",
    "df_view_vs_fan = df_view_vs_fan.merge(right=df_yt_fan, left_on=['account_display_name', 'month'], right_on=['account_display_name', 'month'], how='inner')\n",
    "\n",
    "# create column type_fan\n",
    "def classify_fan_amount(row):\n",
    "\n",
    "    if row['fan'] >= 100000 and row['fan'] <= 999999:\n",
    "        type_fan = 'Silver'\n",
    "    elif row['fan'] > 999999 and row['fan'] <= 10000000:\n",
    "        type_fan = 'Gold'\n",
    "    elif row['fan'] > 10000000:\n",
    "        type_fan = 'Diamond'\n",
    "    else:\n",
    "        type_fan = 'NA'\n",
    "\n",
    "    return type_fan\n",
    "\n",
    "df_view_vs_fan['type_fan'] = df_view_vs_fan.apply(classify_fan_amount, axis=1)\n",
    "df_view_vs_fan = df_view_vs_fan.loc[df_view_vs_fan['type_fan'] != 'NA']\n",
    "\n",
    "fan_cats = ['Diamond', 'Gold', 'Silver', 'Filtered by dropdown']\n",
    "fan_type = CategoricalDtype(categories=fan_cats, ordered=True)\n",
    "df_view_vs_fan['type_fan'] = df_view_vs_fan['type_fan'].astype(fan_type)\n",
    "\n",
    "df_view_vs_fan = df_view_vs_fan.sort_values(by=['type_fan', 'account_display_name', 'month'])\n",
    "\n",
    "# add missing month name each account id by using groupby categorical column(month)\n",
    "df_view_vs_fan = df_view_vs_fan.groupby(['account_display_name', 'month']).agg(lambda x:x).reset_index()\n",
    "df_view_vs_fan.loc[:,['view', 'count', 'avg_view', 'created_at', 'fan']] = df_view_vs_fan.loc[:,['view', 'count', 'avg_view', 'created_at', 'fan']].fillna(0)\n",
    "df_view_vs_fan.loc[:,['type_fan']] = df_view_vs_fan.loc[:,['type_fan']].fillna('Silver')\n",
    "\n",
    "df_view_vs_fan = df_view_vs_fan.sort_values(by=['type_fan', 'account_display_name', 'month'])\n",
    "\n",
    "# Export to csv file\n",
    "df_view_vs_fan.to_csv('df_view_vs_fan.csv', encoding='utf-8')\n"
   ]
  },
  {
   "cell_type": "code",
   "execution_count": 3,
   "metadata": {},
   "outputs": [],
   "source": [
    "# line chart fan in each month of each account ID\n",
    "df_map_all_platform = pd.read_csv('Account_mapping_v2.csv', encoding='utf-8')\n",
    "\n",
    "\n",
    "df_fan_each_month = df_all[['channel', 'account_id', 'created_at', 'fan']].merge(right=df_map_all_platform[['account_id', 'mapped_name']], \n",
    "                                                                                right_on='account_id',\n",
    "                                                                                left_on='account_id',\n",
    "                                                                                how='inner')[['mapped_name', 'channel', 'created_at', 'fan']]\n",
    "\n",
    "# create month column\n",
    "df_fan_each_month['month'] = df_fan_each_month['created_at'].dt.month_name()\n",
    "\n",
    "df_fan_each_month = df_fan_each_month[['mapped_name', 'channel', 'month', 'created_at', 'fan']]\n",
    "\n",
    "month_cats = ['January', 'February', 'March', 'April', 'May', 'June', 'July', 'August', 'September', 'October', 'November', 'December']\n",
    "from pandas.api.types import CategoricalDtype\n",
    "cat_type = CategoricalDtype(categories=month_cats, ordered=True)\n",
    "df_fan_each_month['month'] = df_fan_each_month['month'].astype(cat_type)\n",
    "\n",
    "\n",
    "# get lastest fan from last date of each month\n",
    "df_fan_each_month = df_fan_each_month.sort_values(by=['mapped_name', 'channel', 'month', 'created_at'], ascending=True).groupby(['mapped_name', 'channel', 'month']).tail(1)\n",
    "\n",
    "# add missing month name each account id by using groupby categorical column(month)\n",
    "df_fan_each_month = df_fan_each_month.groupby(['mapped_name', 'channel', 'month'])['fan'].agg(lambda x:x).reset_index()\n",
    "\n",
    "import plotly.graph_objects as go\n",
    "from plotly.subplots import make_subplots\n",
    "from plotly.graph_objs import Layout\n",
    "\n",
    "# data for drop down list to filter mapped_name\n",
    "df_unique_name_channel= df_fan_each_month[['mapped_name', 'channel']].drop_duplicates()\n",
    "\n",
    "# export to csv\n",
    "df_unique_name_channel.to_csv('df_unique_name_channel.csv', encoding='utf-8')\n",
    "df_fan_each_month.to_csv('df_fan_each_month.csv', encoding='utf-8')\n"
   ]
  },
  {
   "cell_type": "code",
   "execution_count": 2,
   "metadata": {},
   "outputs": [
    {
     "data": {
      "application/vnd.plotly.v1+json": {
       "config": {
        "plotlyServerURL": "https://plot.ly"
       },
       "data": [
        {
         "branchvalues": "total",
         "labels": [
          "Twitter",
          "Sales",
          "News",
          "Education",
          "Travel",
          "Food&Dessert",
          "Covid19",
          "Finance&Business",
          "Beauty",
          "IT",
          "Horoscope",
          "#SaleHere",
          "#ปันโปร",
          "#รีวิวเซเว่น",
          "#ของดีบอกต่อ",
          "#ไว้รีวิวห้ามขายของโว้ยย",
          "#อีจัน",
          "#EJanNews",
          "#ข่าว",
          "#misterban",
          "#เศรษฐกิจ",
          "#ศิลปวัฒนธรรม",
          "#SilpaMag",
          "#ประวัติศาสตร์",
          "#TCAS",
          "#dek64",
          "#ไปไหนดี",
          "#painaidii",
          "#รีวิวที่พัก",
          "#รีวิวเกาหลี",
          "#รีวิวเชียงใหม่",
          "#อร่อยบอกต่อ",
          "#อร่อยไปแดก",
          "#รีวิวคาเฟ่",
          "#bkkmenu",
          "#เรื่องกินเรื่องใหญ่",
          "#โควิด19",
          "#COVID19",
          "#Covid_19",
          "#กักตัวอยู่บ้านแล้วมาเที่ยวผ่านบทความดีกว่า",
          "#ยอดผู้ติดเชื้อ",
          "#SET",
          "#MoneyBuffalo",
          "#หุ้นเด่น",
          "#หุ้นวันนี้",
          "#ลงทุนแมน",
          "#SistaCafe",
          "#HowtoPerfect",
          "#HowtoBeauty",
          "#makeup",
          "#noyneungmakeup",
          "#beartai",
          "#Apple",
          "#iphonedroid",
          "#imod",
          "#iphone",
          "#ดูดวง",
          "#aดวง",
          "#ดวงความรัก",
          "#ดวงรายวัน",
          "#12ราศี"
         ],
         "marker": {
          "colors": [
           "",
           "#ABDEE6",
           "#CBAACB",
           "FFFFB5",
           "#FFCCB6",
           "#F3B0C3",
           "#FCB9AA",
           "#F6EAC2",
           "#ECEAE4",
           "#B5EAD7",
           "#55CBCD"
          ]
         },
         "maxdepth": 2,
         "parents": [
          null,
          "Twitter",
          "Twitter",
          "Twitter",
          "Twitter",
          "Twitter",
          "Twitter",
          "Twitter",
          "Twitter",
          "Twitter",
          "Twitter",
          "Sales",
          "Sales",
          "Sales",
          "Sales",
          "Sales",
          "News",
          "News",
          "News",
          "News",
          "News",
          "Education",
          "Education",
          "Education",
          "Education",
          "Education",
          "Travel",
          "Travel",
          "Travel",
          "Travel",
          "Travel",
          "Food&Dessert",
          "Food&Dessert",
          "Food&Dessert",
          "Food&Dessert",
          "Food&Dessert",
          "Covid19",
          "Covid19",
          "Covid19",
          "Covid19",
          "Covid19",
          "Finance&Business",
          "Finance&Business",
          "Finance&Business",
          "Finance&Business",
          "Finance&Business",
          "Beauty",
          "Beauty",
          "Beauty",
          "Beauty",
          "Beauty",
          "IT",
          "IT",
          "IT",
          "IT",
          "IT",
          "Horoscope",
          "Horoscope",
          "Horoscope",
          "Horoscope",
          "Horoscope"
         ],
         "type": "sunburst",
         "values": [
          null,
          14754,
          19609,
          12975,
          11254,
          8855,
          12153,
          6096,
          7361,
          5413,
          5177,
          7563,
          3827,
          1257,
          1103,
          1004,
          5110,
          4858,
          4662,
          4262,
          717,
          4029,
          4003,
          2822,
          1163,
          958,
          3740,
          3726,
          1497,
          1172,
          1119,
          3647,
          2278,
          1389,
          901,
          640,
          5610,
          4278,
          1349,
          496,
          420,
          1497,
          1368,
          1194,
          1193,
          844,
          3115,
          3099,
          486,
          381,
          280,
          2490,
          901,
          786,
          710,
          526,
          2066,
          1852,
          463,
          457,
          339
         ]
        }
       ],
       "layout": {
        "font": {
         "size": 22
        },
        "margin": {
         "b": 0,
         "l": 0,
         "r": 0,
         "t": 0
        },
        "template": {
         "data": {
          "bar": [
           {
            "error_x": {
             "color": "#2a3f5f"
            },
            "error_y": {
             "color": "#2a3f5f"
            },
            "marker": {
             "line": {
              "color": "#E5ECF6",
              "width": 0.5
             },
             "pattern": {
              "fillmode": "overlay",
              "size": 10,
              "solidity": 0.2
             }
            },
            "type": "bar"
           }
          ],
          "barpolar": [
           {
            "marker": {
             "line": {
              "color": "#E5ECF6",
              "width": 0.5
             },
             "pattern": {
              "fillmode": "overlay",
              "size": 10,
              "solidity": 0.2
             }
            },
            "type": "barpolar"
           }
          ],
          "carpet": [
           {
            "aaxis": {
             "endlinecolor": "#2a3f5f",
             "gridcolor": "white",
             "linecolor": "white",
             "minorgridcolor": "white",
             "startlinecolor": "#2a3f5f"
            },
            "baxis": {
             "endlinecolor": "#2a3f5f",
             "gridcolor": "white",
             "linecolor": "white",
             "minorgridcolor": "white",
             "startlinecolor": "#2a3f5f"
            },
            "type": "carpet"
           }
          ],
          "choropleth": [
           {
            "colorbar": {
             "outlinewidth": 0,
             "ticks": ""
            },
            "type": "choropleth"
           }
          ],
          "contour": [
           {
            "colorbar": {
             "outlinewidth": 0,
             "ticks": ""
            },
            "colorscale": [
             [
              0,
              "#0d0887"
             ],
             [
              0.1111111111111111,
              "#46039f"
             ],
             [
              0.2222222222222222,
              "#7201a8"
             ],
             [
              0.3333333333333333,
              "#9c179e"
             ],
             [
              0.4444444444444444,
              "#bd3786"
             ],
             [
              0.5555555555555556,
              "#d8576b"
             ],
             [
              0.6666666666666666,
              "#ed7953"
             ],
             [
              0.7777777777777778,
              "#fb9f3a"
             ],
             [
              0.8888888888888888,
              "#fdca26"
             ],
             [
              1,
              "#f0f921"
             ]
            ],
            "type": "contour"
           }
          ],
          "contourcarpet": [
           {
            "colorbar": {
             "outlinewidth": 0,
             "ticks": ""
            },
            "type": "contourcarpet"
           }
          ],
          "heatmap": [
           {
            "colorbar": {
             "outlinewidth": 0,
             "ticks": ""
            },
            "colorscale": [
             [
              0,
              "#0d0887"
             ],
             [
              0.1111111111111111,
              "#46039f"
             ],
             [
              0.2222222222222222,
              "#7201a8"
             ],
             [
              0.3333333333333333,
              "#9c179e"
             ],
             [
              0.4444444444444444,
              "#bd3786"
             ],
             [
              0.5555555555555556,
              "#d8576b"
             ],
             [
              0.6666666666666666,
              "#ed7953"
             ],
             [
              0.7777777777777778,
              "#fb9f3a"
             ],
             [
              0.8888888888888888,
              "#fdca26"
             ],
             [
              1,
              "#f0f921"
             ]
            ],
            "type": "heatmap"
           }
          ],
          "heatmapgl": [
           {
            "colorbar": {
             "outlinewidth": 0,
             "ticks": ""
            },
            "colorscale": [
             [
              0,
              "#0d0887"
             ],
             [
              0.1111111111111111,
              "#46039f"
             ],
             [
              0.2222222222222222,
              "#7201a8"
             ],
             [
              0.3333333333333333,
              "#9c179e"
             ],
             [
              0.4444444444444444,
              "#bd3786"
             ],
             [
              0.5555555555555556,
              "#d8576b"
             ],
             [
              0.6666666666666666,
              "#ed7953"
             ],
             [
              0.7777777777777778,
              "#fb9f3a"
             ],
             [
              0.8888888888888888,
              "#fdca26"
             ],
             [
              1,
              "#f0f921"
             ]
            ],
            "type": "heatmapgl"
           }
          ],
          "histogram": [
           {
            "marker": {
             "pattern": {
              "fillmode": "overlay",
              "size": 10,
              "solidity": 0.2
             }
            },
            "type": "histogram"
           }
          ],
          "histogram2d": [
           {
            "colorbar": {
             "outlinewidth": 0,
             "ticks": ""
            },
            "colorscale": [
             [
              0,
              "#0d0887"
             ],
             [
              0.1111111111111111,
              "#46039f"
             ],
             [
              0.2222222222222222,
              "#7201a8"
             ],
             [
              0.3333333333333333,
              "#9c179e"
             ],
             [
              0.4444444444444444,
              "#bd3786"
             ],
             [
              0.5555555555555556,
              "#d8576b"
             ],
             [
              0.6666666666666666,
              "#ed7953"
             ],
             [
              0.7777777777777778,
              "#fb9f3a"
             ],
             [
              0.8888888888888888,
              "#fdca26"
             ],
             [
              1,
              "#f0f921"
             ]
            ],
            "type": "histogram2d"
           }
          ],
          "histogram2dcontour": [
           {
            "colorbar": {
             "outlinewidth": 0,
             "ticks": ""
            },
            "colorscale": [
             [
              0,
              "#0d0887"
             ],
             [
              0.1111111111111111,
              "#46039f"
             ],
             [
              0.2222222222222222,
              "#7201a8"
             ],
             [
              0.3333333333333333,
              "#9c179e"
             ],
             [
              0.4444444444444444,
              "#bd3786"
             ],
             [
              0.5555555555555556,
              "#d8576b"
             ],
             [
              0.6666666666666666,
              "#ed7953"
             ],
             [
              0.7777777777777778,
              "#fb9f3a"
             ],
             [
              0.8888888888888888,
              "#fdca26"
             ],
             [
              1,
              "#f0f921"
             ]
            ],
            "type": "histogram2dcontour"
           }
          ],
          "mesh3d": [
           {
            "colorbar": {
             "outlinewidth": 0,
             "ticks": ""
            },
            "type": "mesh3d"
           }
          ],
          "parcoords": [
           {
            "line": {
             "colorbar": {
              "outlinewidth": 0,
              "ticks": ""
             }
            },
            "type": "parcoords"
           }
          ],
          "pie": [
           {
            "automargin": true,
            "type": "pie"
           }
          ],
          "scatter": [
           {
            "marker": {
             "colorbar": {
              "outlinewidth": 0,
              "ticks": ""
             }
            },
            "type": "scatter"
           }
          ],
          "scatter3d": [
           {
            "line": {
             "colorbar": {
              "outlinewidth": 0,
              "ticks": ""
             }
            },
            "marker": {
             "colorbar": {
              "outlinewidth": 0,
              "ticks": ""
             }
            },
            "type": "scatter3d"
           }
          ],
          "scattercarpet": [
           {
            "marker": {
             "colorbar": {
              "outlinewidth": 0,
              "ticks": ""
             }
            },
            "type": "scattercarpet"
           }
          ],
          "scattergeo": [
           {
            "marker": {
             "colorbar": {
              "outlinewidth": 0,
              "ticks": ""
             }
            },
            "type": "scattergeo"
           }
          ],
          "scattergl": [
           {
            "marker": {
             "colorbar": {
              "outlinewidth": 0,
              "ticks": ""
             }
            },
            "type": "scattergl"
           }
          ],
          "scattermapbox": [
           {
            "marker": {
             "colorbar": {
              "outlinewidth": 0,
              "ticks": ""
             }
            },
            "type": "scattermapbox"
           }
          ],
          "scatterpolar": [
           {
            "marker": {
             "colorbar": {
              "outlinewidth": 0,
              "ticks": ""
             }
            },
            "type": "scatterpolar"
           }
          ],
          "scatterpolargl": [
           {
            "marker": {
             "colorbar": {
              "outlinewidth": 0,
              "ticks": ""
             }
            },
            "type": "scatterpolargl"
           }
          ],
          "scatterternary": [
           {
            "marker": {
             "colorbar": {
              "outlinewidth": 0,
              "ticks": ""
             }
            },
            "type": "scatterternary"
           }
          ],
          "surface": [
           {
            "colorbar": {
             "outlinewidth": 0,
             "ticks": ""
            },
            "colorscale": [
             [
              0,
              "#0d0887"
             ],
             [
              0.1111111111111111,
              "#46039f"
             ],
             [
              0.2222222222222222,
              "#7201a8"
             ],
             [
              0.3333333333333333,
              "#9c179e"
             ],
             [
              0.4444444444444444,
              "#bd3786"
             ],
             [
              0.5555555555555556,
              "#d8576b"
             ],
             [
              0.6666666666666666,
              "#ed7953"
             ],
             [
              0.7777777777777778,
              "#fb9f3a"
             ],
             [
              0.8888888888888888,
              "#fdca26"
             ],
             [
              1,
              "#f0f921"
             ]
            ],
            "type": "surface"
           }
          ],
          "table": [
           {
            "cells": {
             "fill": {
              "color": "#EBF0F8"
             },
             "line": {
              "color": "white"
             }
            },
            "header": {
             "fill": {
              "color": "#C8D4E3"
             },
             "line": {
              "color": "white"
             }
            },
            "type": "table"
           }
          ]
         },
         "layout": {
          "annotationdefaults": {
           "arrowcolor": "#2a3f5f",
           "arrowhead": 0,
           "arrowwidth": 1
          },
          "autotypenumbers": "strict",
          "coloraxis": {
           "colorbar": {
            "outlinewidth": 0,
            "ticks": ""
           }
          },
          "colorscale": {
           "diverging": [
            [
             0,
             "#8e0152"
            ],
            [
             0.1,
             "#c51b7d"
            ],
            [
             0.2,
             "#de77ae"
            ],
            [
             0.3,
             "#f1b6da"
            ],
            [
             0.4,
             "#fde0ef"
            ],
            [
             0.5,
             "#f7f7f7"
            ],
            [
             0.6,
             "#e6f5d0"
            ],
            [
             0.7,
             "#b8e186"
            ],
            [
             0.8,
             "#7fbc41"
            ],
            [
             0.9,
             "#4d9221"
            ],
            [
             1,
             "#276419"
            ]
           ],
           "sequential": [
            [
             0,
             "#0d0887"
            ],
            [
             0.1111111111111111,
             "#46039f"
            ],
            [
             0.2222222222222222,
             "#7201a8"
            ],
            [
             0.3333333333333333,
             "#9c179e"
            ],
            [
             0.4444444444444444,
             "#bd3786"
            ],
            [
             0.5555555555555556,
             "#d8576b"
            ],
            [
             0.6666666666666666,
             "#ed7953"
            ],
            [
             0.7777777777777778,
             "#fb9f3a"
            ],
            [
             0.8888888888888888,
             "#fdca26"
            ],
            [
             1,
             "#f0f921"
            ]
           ],
           "sequentialminus": [
            [
             0,
             "#0d0887"
            ],
            [
             0.1111111111111111,
             "#46039f"
            ],
            [
             0.2222222222222222,
             "#7201a8"
            ],
            [
             0.3333333333333333,
             "#9c179e"
            ],
            [
             0.4444444444444444,
             "#bd3786"
            ],
            [
             0.5555555555555556,
             "#d8576b"
            ],
            [
             0.6666666666666666,
             "#ed7953"
            ],
            [
             0.7777777777777778,
             "#fb9f3a"
            ],
            [
             0.8888888888888888,
             "#fdca26"
            ],
            [
             1,
             "#f0f921"
            ]
           ]
          },
          "colorway": [
           "#636efa",
           "#EF553B",
           "#00cc96",
           "#ab63fa",
           "#FFA15A",
           "#19d3f3",
           "#FF6692",
           "#B6E880",
           "#FF97FF",
           "#FECB52"
          ],
          "font": {
           "color": "#2a3f5f"
          },
          "geo": {
           "bgcolor": "white",
           "lakecolor": "white",
           "landcolor": "#E5ECF6",
           "showlakes": true,
           "showland": true,
           "subunitcolor": "white"
          },
          "hoverlabel": {
           "align": "left"
          },
          "hovermode": "closest",
          "mapbox": {
           "style": "light"
          },
          "paper_bgcolor": "white",
          "plot_bgcolor": "#E5ECF6",
          "polar": {
           "angularaxis": {
            "gridcolor": "white",
            "linecolor": "white",
            "ticks": ""
           },
           "bgcolor": "#E5ECF6",
           "radialaxis": {
            "gridcolor": "white",
            "linecolor": "white",
            "ticks": ""
           }
          },
          "scene": {
           "xaxis": {
            "backgroundcolor": "#E5ECF6",
            "gridcolor": "white",
            "gridwidth": 2,
            "linecolor": "white",
            "showbackground": true,
            "ticks": "",
            "zerolinecolor": "white"
           },
           "yaxis": {
            "backgroundcolor": "#E5ECF6",
            "gridcolor": "white",
            "gridwidth": 2,
            "linecolor": "white",
            "showbackground": true,
            "ticks": "",
            "zerolinecolor": "white"
           },
           "zaxis": {
            "backgroundcolor": "#E5ECF6",
            "gridcolor": "white",
            "gridwidth": 2,
            "linecolor": "white",
            "showbackground": true,
            "ticks": "",
            "zerolinecolor": "white"
           }
          },
          "shapedefaults": {
           "line": {
            "color": "#2a3f5f"
           }
          },
          "ternary": {
           "aaxis": {
            "gridcolor": "white",
            "linecolor": "white",
            "ticks": ""
           },
           "baxis": {
            "gridcolor": "white",
            "linecolor": "white",
            "ticks": ""
           },
           "bgcolor": "#E5ECF6",
           "caxis": {
            "gridcolor": "white",
            "linecolor": "white",
            "ticks": ""
           }
          },
          "title": {
           "x": 0.05
          },
          "xaxis": {
           "automargin": true,
           "gridcolor": "white",
           "linecolor": "white",
           "ticks": "",
           "title": {
            "standoff": 15
           },
           "zerolinecolor": "white",
           "zerolinewidth": 2
          },
          "yaxis": {
           "automargin": true,
           "gridcolor": "white",
           "linecolor": "white",
           "ticks": "",
           "title": {
            "standoff": 15
           },
           "zerolinecolor": "white",
           "zerolinewidth": 2
          }
         }
        }
       }
      }
     },
     "metadata": {},
     "output_type": "display_data"
    }
   ],
   "source": [
    "# Sunburst chart for hashtag\n",
    "import plotly.graph_objects as go\n",
    "import pandas as pd\n",
    "color_cat=['', '#ABDEE6', '#CBAACB', 'FFFFB5', '#FFCCB6', '#F3B0C3', '#FCB9AA', '#F6EAC2', '#ECEAE4', '#B5EAD7', '#55CBCD']\n",
    "\n",
    "df_sunburst = pd.read_csv('df_sunburst.csv', encoding='utf-8')"
   ]
  },
  {
   "cell_type": "code",
   "execution_count": 99,
   "metadata": {},
   "outputs": [
    {
     "data": {
      "application/vnd.plotly.v1+json": {
       "config": {
        "plotlyServerURL": "https://plot.ly"
       },
       "data": [
        {
         "marker": {
          "color": "rgba(255,160,122, 0.6)",
          "line": {
           "color": "rgba(255,160,122, 1.0)",
           "width": 3
          }
         },
         "name": "Average engagement per post",
         "orientation": "h",
         "text": "value",
         "type": "bar",
         "x": [
          4340.225703510298,
          88958.30718954248,
          117849.11135371179,
          4347.968290441177,
          4630.609122584732,
          572.2083935705182,
          1511.9112013192946,
          590.2421417620973,
          2541.9914853358564,
          6677.44895522388,
          300.5103382133085,
          10581.937091784119,
          3623.171900556101,
          4272.449054863992,
          2919.5163580246913
         ],
         "y": [
          "อีจัน",
          "กับข้าวกับปลาโอ Plaocooking",
          "Lowcostcosplay",
          "สมาคมกวนTeen",
          "หมีมีหม้อ",
          "SALE HERE",
          "Starvingtime เรื่องกินเรื่องใหญ่",
          "ปันโปร - Punpromotion",
          "มนุษย์เงินเดือน คิดมาก",
          "กระดานดำ",
          "wongnai.com",
          "Unseen Tour Thailand",
          "ผู้หญิง Beauty Community",
          "หมูหิว",
          "ชีวิตติดรีวิว"
         ]
        },
        {
         "marker": {
          "color": "rgba(135,206,235, 0.6)",
          "line": {
           "color": "rgba(135,206,235, 1.0)",
           "width": 3
          }
         },
         "name": "Fan",
         "orientation": "h",
         "text": "value",
         "type": "bar",
         "x": [
          8741649,
          7048969,
          5477380,
          5432420,
          5290597,
          5232653,
          4439475,
          4355588,
          4125761,
          3949618,
          3940136,
          3924075,
          3921568,
          3881729,
          3811846
         ],
         "y": [
          "อีจัน",
          "กับข้าวกับปลาโอ Plaocooking",
          "Lowcostcosplay",
          "สมาคมกวนTeen",
          "หมีมีหม้อ",
          "SALE HERE",
          "Starvingtime เรื่องกินเรื่องใหญ่",
          "ปันโปร - Punpromotion",
          "มนุษย์เงินเดือน คิดมาก",
          "กระดานดำ",
          "wongnai.com",
          "Unseen Tour Thailand",
          "ผู้หญิง Beauty Community",
          "หมูหิว",
          "ชีวิตติดรีวิว"
         ]
        }
       ],
       "layout": {
        "barmode": "stack",
        "template": {
         "data": {
          "bar": [
           {
            "error_x": {
             "color": "#2a3f5f"
            },
            "error_y": {
             "color": "#2a3f5f"
            },
            "marker": {
             "line": {
              "color": "#E5ECF6",
              "width": 0.5
             },
             "pattern": {
              "fillmode": "overlay",
              "size": 10,
              "solidity": 0.2
             }
            },
            "type": "bar"
           }
          ],
          "barpolar": [
           {
            "marker": {
             "line": {
              "color": "#E5ECF6",
              "width": 0.5
             },
             "pattern": {
              "fillmode": "overlay",
              "size": 10,
              "solidity": 0.2
             }
            },
            "type": "barpolar"
           }
          ],
          "carpet": [
           {
            "aaxis": {
             "endlinecolor": "#2a3f5f",
             "gridcolor": "white",
             "linecolor": "white",
             "minorgridcolor": "white",
             "startlinecolor": "#2a3f5f"
            },
            "baxis": {
             "endlinecolor": "#2a3f5f",
             "gridcolor": "white",
             "linecolor": "white",
             "minorgridcolor": "white",
             "startlinecolor": "#2a3f5f"
            },
            "type": "carpet"
           }
          ],
          "choropleth": [
           {
            "colorbar": {
             "outlinewidth": 0,
             "ticks": ""
            },
            "type": "choropleth"
           }
          ],
          "contour": [
           {
            "colorbar": {
             "outlinewidth": 0,
             "ticks": ""
            },
            "colorscale": [
             [
              0,
              "#0d0887"
             ],
             [
              0.1111111111111111,
              "#46039f"
             ],
             [
              0.2222222222222222,
              "#7201a8"
             ],
             [
              0.3333333333333333,
              "#9c179e"
             ],
             [
              0.4444444444444444,
              "#bd3786"
             ],
             [
              0.5555555555555556,
              "#d8576b"
             ],
             [
              0.6666666666666666,
              "#ed7953"
             ],
             [
              0.7777777777777778,
              "#fb9f3a"
             ],
             [
              0.8888888888888888,
              "#fdca26"
             ],
             [
              1,
              "#f0f921"
             ]
            ],
            "type": "contour"
           }
          ],
          "contourcarpet": [
           {
            "colorbar": {
             "outlinewidth": 0,
             "ticks": ""
            },
            "type": "contourcarpet"
           }
          ],
          "heatmap": [
           {
            "colorbar": {
             "outlinewidth": 0,
             "ticks": ""
            },
            "colorscale": [
             [
              0,
              "#0d0887"
             ],
             [
              0.1111111111111111,
              "#46039f"
             ],
             [
              0.2222222222222222,
              "#7201a8"
             ],
             [
              0.3333333333333333,
              "#9c179e"
             ],
             [
              0.4444444444444444,
              "#bd3786"
             ],
             [
              0.5555555555555556,
              "#d8576b"
             ],
             [
              0.6666666666666666,
              "#ed7953"
             ],
             [
              0.7777777777777778,
              "#fb9f3a"
             ],
             [
              0.8888888888888888,
              "#fdca26"
             ],
             [
              1,
              "#f0f921"
             ]
            ],
            "type": "heatmap"
           }
          ],
          "heatmapgl": [
           {
            "colorbar": {
             "outlinewidth": 0,
             "ticks": ""
            },
            "colorscale": [
             [
              0,
              "#0d0887"
             ],
             [
              0.1111111111111111,
              "#46039f"
             ],
             [
              0.2222222222222222,
              "#7201a8"
             ],
             [
              0.3333333333333333,
              "#9c179e"
             ],
             [
              0.4444444444444444,
              "#bd3786"
             ],
             [
              0.5555555555555556,
              "#d8576b"
             ],
             [
              0.6666666666666666,
              "#ed7953"
             ],
             [
              0.7777777777777778,
              "#fb9f3a"
             ],
             [
              0.8888888888888888,
              "#fdca26"
             ],
             [
              1,
              "#f0f921"
             ]
            ],
            "type": "heatmapgl"
           }
          ],
          "histogram": [
           {
            "marker": {
             "pattern": {
              "fillmode": "overlay",
              "size": 10,
              "solidity": 0.2
             }
            },
            "type": "histogram"
           }
          ],
          "histogram2d": [
           {
            "colorbar": {
             "outlinewidth": 0,
             "ticks": ""
            },
            "colorscale": [
             [
              0,
              "#0d0887"
             ],
             [
              0.1111111111111111,
              "#46039f"
             ],
             [
              0.2222222222222222,
              "#7201a8"
             ],
             [
              0.3333333333333333,
              "#9c179e"
             ],
             [
              0.4444444444444444,
              "#bd3786"
             ],
             [
              0.5555555555555556,
              "#d8576b"
             ],
             [
              0.6666666666666666,
              "#ed7953"
             ],
             [
              0.7777777777777778,
              "#fb9f3a"
             ],
             [
              0.8888888888888888,
              "#fdca26"
             ],
             [
              1,
              "#f0f921"
             ]
            ],
            "type": "histogram2d"
           }
          ],
          "histogram2dcontour": [
           {
            "colorbar": {
             "outlinewidth": 0,
             "ticks": ""
            },
            "colorscale": [
             [
              0,
              "#0d0887"
             ],
             [
              0.1111111111111111,
              "#46039f"
             ],
             [
              0.2222222222222222,
              "#7201a8"
             ],
             [
              0.3333333333333333,
              "#9c179e"
             ],
             [
              0.4444444444444444,
              "#bd3786"
             ],
             [
              0.5555555555555556,
              "#d8576b"
             ],
             [
              0.6666666666666666,
              "#ed7953"
             ],
             [
              0.7777777777777778,
              "#fb9f3a"
             ],
             [
              0.8888888888888888,
              "#fdca26"
             ],
             [
              1,
              "#f0f921"
             ]
            ],
            "type": "histogram2dcontour"
           }
          ],
          "mesh3d": [
           {
            "colorbar": {
             "outlinewidth": 0,
             "ticks": ""
            },
            "type": "mesh3d"
           }
          ],
          "parcoords": [
           {
            "line": {
             "colorbar": {
              "outlinewidth": 0,
              "ticks": ""
             }
            },
            "type": "parcoords"
           }
          ],
          "pie": [
           {
            "automargin": true,
            "type": "pie"
           }
          ],
          "scatter": [
           {
            "marker": {
             "colorbar": {
              "outlinewidth": 0,
              "ticks": ""
             }
            },
            "type": "scatter"
           }
          ],
          "scatter3d": [
           {
            "line": {
             "colorbar": {
              "outlinewidth": 0,
              "ticks": ""
             }
            },
            "marker": {
             "colorbar": {
              "outlinewidth": 0,
              "ticks": ""
             }
            },
            "type": "scatter3d"
           }
          ],
          "scattercarpet": [
           {
            "marker": {
             "colorbar": {
              "outlinewidth": 0,
              "ticks": ""
             }
            },
            "type": "scattercarpet"
           }
          ],
          "scattergeo": [
           {
            "marker": {
             "colorbar": {
              "outlinewidth": 0,
              "ticks": ""
             }
            },
            "type": "scattergeo"
           }
          ],
          "scattergl": [
           {
            "marker": {
             "colorbar": {
              "outlinewidth": 0,
              "ticks": ""
             }
            },
            "type": "scattergl"
           }
          ],
          "scattermapbox": [
           {
            "marker": {
             "colorbar": {
              "outlinewidth": 0,
              "ticks": ""
             }
            },
            "type": "scattermapbox"
           }
          ],
          "scatterpolar": [
           {
            "marker": {
             "colorbar": {
              "outlinewidth": 0,
              "ticks": ""
             }
            },
            "type": "scatterpolar"
           }
          ],
          "scatterpolargl": [
           {
            "marker": {
             "colorbar": {
              "outlinewidth": 0,
              "ticks": ""
             }
            },
            "type": "scatterpolargl"
           }
          ],
          "scatterternary": [
           {
            "marker": {
             "colorbar": {
              "outlinewidth": 0,
              "ticks": ""
             }
            },
            "type": "scatterternary"
           }
          ],
          "surface": [
           {
            "colorbar": {
             "outlinewidth": 0,
             "ticks": ""
            },
            "colorscale": [
             [
              0,
              "#0d0887"
             ],
             [
              0.1111111111111111,
              "#46039f"
             ],
             [
              0.2222222222222222,
              "#7201a8"
             ],
             [
              0.3333333333333333,
              "#9c179e"
             ],
             [
              0.4444444444444444,
              "#bd3786"
             ],
             [
              0.5555555555555556,
              "#d8576b"
             ],
             [
              0.6666666666666666,
              "#ed7953"
             ],
             [
              0.7777777777777778,
              "#fb9f3a"
             ],
             [
              0.8888888888888888,
              "#fdca26"
             ],
             [
              1,
              "#f0f921"
             ]
            ],
            "type": "surface"
           }
          ],
          "table": [
           {
            "cells": {
             "fill": {
              "color": "#EBF0F8"
             },
             "line": {
              "color": "white"
             }
            },
            "header": {
             "fill": {
              "color": "#C8D4E3"
             },
             "line": {
              "color": "white"
             }
            },
            "type": "table"
           }
          ]
         },
         "layout": {
          "annotationdefaults": {
           "arrowcolor": "#2a3f5f",
           "arrowhead": 0,
           "arrowwidth": 1
          },
          "autotypenumbers": "strict",
          "coloraxis": {
           "colorbar": {
            "outlinewidth": 0,
            "ticks": ""
           }
          },
          "colorscale": {
           "diverging": [
            [
             0,
             "#8e0152"
            ],
            [
             0.1,
             "#c51b7d"
            ],
            [
             0.2,
             "#de77ae"
            ],
            [
             0.3,
             "#f1b6da"
            ],
            [
             0.4,
             "#fde0ef"
            ],
            [
             0.5,
             "#f7f7f7"
            ],
            [
             0.6,
             "#e6f5d0"
            ],
            [
             0.7,
             "#b8e186"
            ],
            [
             0.8,
             "#7fbc41"
            ],
            [
             0.9,
             "#4d9221"
            ],
            [
             1,
             "#276419"
            ]
           ],
           "sequential": [
            [
             0,
             "#0d0887"
            ],
            [
             0.1111111111111111,
             "#46039f"
            ],
            [
             0.2222222222222222,
             "#7201a8"
            ],
            [
             0.3333333333333333,
             "#9c179e"
            ],
            [
             0.4444444444444444,
             "#bd3786"
            ],
            [
             0.5555555555555556,
             "#d8576b"
            ],
            [
             0.6666666666666666,
             "#ed7953"
            ],
            [
             0.7777777777777778,
             "#fb9f3a"
            ],
            [
             0.8888888888888888,
             "#fdca26"
            ],
            [
             1,
             "#f0f921"
            ]
           ],
           "sequentialminus": [
            [
             0,
             "#0d0887"
            ],
            [
             0.1111111111111111,
             "#46039f"
            ],
            [
             0.2222222222222222,
             "#7201a8"
            ],
            [
             0.3333333333333333,
             "#9c179e"
            ],
            [
             0.4444444444444444,
             "#bd3786"
            ],
            [
             0.5555555555555556,
             "#d8576b"
            ],
            [
             0.6666666666666666,
             "#ed7953"
            ],
            [
             0.7777777777777778,
             "#fb9f3a"
            ],
            [
             0.8888888888888888,
             "#fdca26"
            ],
            [
             1,
             "#f0f921"
            ]
           ]
          },
          "colorway": [
           "#636efa",
           "#EF553B",
           "#00cc96",
           "#ab63fa",
           "#FFA15A",
           "#19d3f3",
           "#FF6692",
           "#B6E880",
           "#FF97FF",
           "#FECB52"
          ],
          "font": {
           "color": "#2a3f5f"
          },
          "geo": {
           "bgcolor": "white",
           "lakecolor": "white",
           "landcolor": "#E5ECF6",
           "showlakes": true,
           "showland": true,
           "subunitcolor": "white"
          },
          "hoverlabel": {
           "align": "left"
          },
          "hovermode": "closest",
          "mapbox": {
           "style": "light"
          },
          "paper_bgcolor": "white",
          "plot_bgcolor": "#E5ECF6",
          "polar": {
           "angularaxis": {
            "gridcolor": "white",
            "linecolor": "white",
            "ticks": ""
           },
           "bgcolor": "#E5ECF6",
           "radialaxis": {
            "gridcolor": "white",
            "linecolor": "white",
            "ticks": ""
           }
          },
          "scene": {
           "xaxis": {
            "backgroundcolor": "#E5ECF6",
            "gridcolor": "white",
            "gridwidth": 2,
            "linecolor": "white",
            "showbackground": true,
            "ticks": "",
            "zerolinecolor": "white"
           },
           "yaxis": {
            "backgroundcolor": "#E5ECF6",
            "gridcolor": "white",
            "gridwidth": 2,
            "linecolor": "white",
            "showbackground": true,
            "ticks": "",
            "zerolinecolor": "white"
           },
           "zaxis": {
            "backgroundcolor": "#E5ECF6",
            "gridcolor": "white",
            "gridwidth": 2,
            "linecolor": "white",
            "showbackground": true,
            "ticks": "",
            "zerolinecolor": "white"
           }
          },
          "shapedefaults": {
           "line": {
            "color": "#2a3f5f"
           }
          },
          "ternary": {
           "aaxis": {
            "gridcolor": "white",
            "linecolor": "white",
            "ticks": ""
           },
           "baxis": {
            "gridcolor": "white",
            "linecolor": "white",
            "ticks": ""
           },
           "bgcolor": "#E5ECF6",
           "caxis": {
            "gridcolor": "white",
            "linecolor": "white",
            "ticks": ""
           }
          },
          "title": {
           "x": 0.05
          },
          "xaxis": {
           "automargin": true,
           "gridcolor": "white",
           "linecolor": "white",
           "ticks": "",
           "title": {
            "standoff": 15
           },
           "zerolinecolor": "white",
           "zerolinewidth": 2
          },
          "yaxis": {
           "automargin": true,
           "gridcolor": "white",
           "linecolor": "white",
           "ticks": "",
           "title": {
            "standoff": 15
           },
           "zerolinecolor": "white",
           "zerolinewidth": 2
          }
         }
        },
        "yaxis": {
         "categoryorder": "total ascending"
        }
       }
      }
     },
     "metadata": {},
     "output_type": "display_data"
    }
   ],
   "source": [
    "# Bar chart Fan+Engagement\n",
    "df_engagement_fan = df_all.loc[:, ['channel', 'account_id', 'created_at', 'new_engagement', 'fan']]\n",
    "\n",
    "selected_column = ['channel', 'account_id', 'new_engagement', 'fan']\n",
    "\n",
    "# sum new_engagement & count post each account\n",
    "df_avg_engagement = df_engagement_fan[selected_column].groupby(['channel', 'account_id']).agg({'new_engagement': 'sum', 'fan': 'count'}).reset_index()\n",
    "df_avg_engagement = df_avg_engagement.rename(columns={'fan':'post_count'})\n",
    "\n",
    "# create average engagement per post \n",
    "df_avg_engagement['value'] = df_avg_engagement['new_engagement'] / df_avg_engagement['post_count']\n",
    "df_avg_engagement['type_value'] = 'average_engagement_per_post'\n",
    "\n",
    "\n",
    "# get the latest fan amount each account\n",
    "df_fan_by_account = df_engagement_fan.sort_values(by=['channel', 'account_id', 'created_at'], ascending=False).drop_duplicates(subset=['channel', 'account_id'])\n",
    "df_fan_by_account['type_value'] = 'fan'\n",
    "df_fan_by_account = df_fan_by_account.rename(columns={'fan':'value'})\n",
    "\n",
    "# find 'total' = average engagement + fan in order to sort data\n",
    "df_total = df_avg_engagement.merge(df_fan_by_account[['account_id', 'value']], left_on='account_id', right_on='account_id')\n",
    "df_total['total'] = df_total['value_x'] + df_total['value_y']\n",
    "\n",
    "# combine df_avg_engagement + df_fan_by_account\n",
    "df_channel_account_top_engagement = df_avg_engagement[['channel', 'account_id', 'type_value', 'value']].append(df_fan_by_account[['channel', 'account_id','type_value','value']], ignore_index=True )\n",
    "\n",
    "# add 'total' column to df_channel_account_top_engagement\n",
    "df_channel_account_top_engagement = df_channel_account_top_engagement.merge(df_total[['account_id', 'total']], left_on='account_id', right_on='account_id', how='left')\n",
    "\n",
    "# add 'account_display_name' column to df_channel_account_top_engagement\n",
    "df_channel_account_top_engagement = df_channel_account_top_engagement.merge(df_acc, left_on='account_id', right_on='account_id', how='left')\n",
    "\n",
    "# sort value\n",
    "df_channel_account_top_engagement = df_channel_account_top_engagement.sort_values(by=['channel', 'total', 'type_value'], ascending=False)\n",
    "df_channel_account_top_engagement\n",
    "\n",
    "# Export to csv\n",
    "df_channel_account_top_engagement.to_csv('df_channel_account_top_engagement.csv', index=False ,encoding='utf-8')"
   ]
  },
  {
   "cell_type": "code",
   "execution_count": 57,
   "metadata": {
    "scrolled": false
   },
   "outputs": [],
   "source": [
    "# Heatmap chart day vs time\n",
    "df_channel_posttime_engagement = df_all.loc[:, ['channel', 'day', 'post_time_range', 'new_engagement']]\n",
    "\n",
    "df_channel_posttime_engagement['post_time_range'] = df_channel_posttime_engagement['post_time_range'].astype(str)\n",
    "df_channel_posttime_engagement = df_channel_posttime_engagement.groupby(['channel', 'day', 'post_time_range']).agg('sum').reset_index()\n",
    "\n",
    "# create pivot table to be input of heatmap\n",
    "df_day_vs_time = pd.pivot_table(df_channel_posttime_engagement, index=['channel', 'day'], columns='post_time_range', values='new_engagement')\n",
    "\n",
    "# reset index before export to csv\n",
    "df_day_vs_time = df_day_vs_time.rename_axis(None, axis=1).reset_index()\n",
    "\n",
    "df_day_vs_time.to_csv('df_day_vs_time.csv', index=False ,encoding='utf-8')"
   ]
  },
  {
   "cell_type": "code",
   "execution_count": 102,
   "metadata": {},
   "outputs": [
    {
     "data": {
      "application/vnd.plotly.v1+json": {
       "config": {
        "plotlyServerURL": "https://plot.ly"
       },
       "data": [
        {
         "hole": 0.5,
         "labels": [
          "facebook",
          "instagram",
          "twitter",
          "youtube"
         ],
         "marker": {
          "colors": [
           "#4169E1",
           "#BA55D3",
           "lightskyblue",
           "#CD5C5C"
          ]
         },
         "sort": false,
         "type": "pie",
         "values": [
          4134541935,
          12034820007,
          163977043,
          19591769137
         ]
        }
       ],
       "layout": {
        "annotations": [
         {
          "font": {
           "size": 20
          },
          "showarrow": false,
          "text": "Channel",
          "x": 0.5,
          "y": 0.5
         }
        ],
        "template": {
         "data": {
          "bar": [
           {
            "error_x": {
             "color": "#2a3f5f"
            },
            "error_y": {
             "color": "#2a3f5f"
            },
            "marker": {
             "line": {
              "color": "#E5ECF6",
              "width": 0.5
             },
             "pattern": {
              "fillmode": "overlay",
              "size": 10,
              "solidity": 0.2
             }
            },
            "type": "bar"
           }
          ],
          "barpolar": [
           {
            "marker": {
             "line": {
              "color": "#E5ECF6",
              "width": 0.5
             },
             "pattern": {
              "fillmode": "overlay",
              "size": 10,
              "solidity": 0.2
             }
            },
            "type": "barpolar"
           }
          ],
          "carpet": [
           {
            "aaxis": {
             "endlinecolor": "#2a3f5f",
             "gridcolor": "white",
             "linecolor": "white",
             "minorgridcolor": "white",
             "startlinecolor": "#2a3f5f"
            },
            "baxis": {
             "endlinecolor": "#2a3f5f",
             "gridcolor": "white",
             "linecolor": "white",
             "minorgridcolor": "white",
             "startlinecolor": "#2a3f5f"
            },
            "type": "carpet"
           }
          ],
          "choropleth": [
           {
            "colorbar": {
             "outlinewidth": 0,
             "ticks": ""
            },
            "type": "choropleth"
           }
          ],
          "contour": [
           {
            "colorbar": {
             "outlinewidth": 0,
             "ticks": ""
            },
            "colorscale": [
             [
              0,
              "#0d0887"
             ],
             [
              0.1111111111111111,
              "#46039f"
             ],
             [
              0.2222222222222222,
              "#7201a8"
             ],
             [
              0.3333333333333333,
              "#9c179e"
             ],
             [
              0.4444444444444444,
              "#bd3786"
             ],
             [
              0.5555555555555556,
              "#d8576b"
             ],
             [
              0.6666666666666666,
              "#ed7953"
             ],
             [
              0.7777777777777778,
              "#fb9f3a"
             ],
             [
              0.8888888888888888,
              "#fdca26"
             ],
             [
              1,
              "#f0f921"
             ]
            ],
            "type": "contour"
           }
          ],
          "contourcarpet": [
           {
            "colorbar": {
             "outlinewidth": 0,
             "ticks": ""
            },
            "type": "contourcarpet"
           }
          ],
          "heatmap": [
           {
            "colorbar": {
             "outlinewidth": 0,
             "ticks": ""
            },
            "colorscale": [
             [
              0,
              "#0d0887"
             ],
             [
              0.1111111111111111,
              "#46039f"
             ],
             [
              0.2222222222222222,
              "#7201a8"
             ],
             [
              0.3333333333333333,
              "#9c179e"
             ],
             [
              0.4444444444444444,
              "#bd3786"
             ],
             [
              0.5555555555555556,
              "#d8576b"
             ],
             [
              0.6666666666666666,
              "#ed7953"
             ],
             [
              0.7777777777777778,
              "#fb9f3a"
             ],
             [
              0.8888888888888888,
              "#fdca26"
             ],
             [
              1,
              "#f0f921"
             ]
            ],
            "type": "heatmap"
           }
          ],
          "heatmapgl": [
           {
            "colorbar": {
             "outlinewidth": 0,
             "ticks": ""
            },
            "colorscale": [
             [
              0,
              "#0d0887"
             ],
             [
              0.1111111111111111,
              "#46039f"
             ],
             [
              0.2222222222222222,
              "#7201a8"
             ],
             [
              0.3333333333333333,
              "#9c179e"
             ],
             [
              0.4444444444444444,
              "#bd3786"
             ],
             [
              0.5555555555555556,
              "#d8576b"
             ],
             [
              0.6666666666666666,
              "#ed7953"
             ],
             [
              0.7777777777777778,
              "#fb9f3a"
             ],
             [
              0.8888888888888888,
              "#fdca26"
             ],
             [
              1,
              "#f0f921"
             ]
            ],
            "type": "heatmapgl"
           }
          ],
          "histogram": [
           {
            "marker": {
             "pattern": {
              "fillmode": "overlay",
              "size": 10,
              "solidity": 0.2
             }
            },
            "type": "histogram"
           }
          ],
          "histogram2d": [
           {
            "colorbar": {
             "outlinewidth": 0,
             "ticks": ""
            },
            "colorscale": [
             [
              0,
              "#0d0887"
             ],
             [
              0.1111111111111111,
              "#46039f"
             ],
             [
              0.2222222222222222,
              "#7201a8"
             ],
             [
              0.3333333333333333,
              "#9c179e"
             ],
             [
              0.4444444444444444,
              "#bd3786"
             ],
             [
              0.5555555555555556,
              "#d8576b"
             ],
             [
              0.6666666666666666,
              "#ed7953"
             ],
             [
              0.7777777777777778,
              "#fb9f3a"
             ],
             [
              0.8888888888888888,
              "#fdca26"
             ],
             [
              1,
              "#f0f921"
             ]
            ],
            "type": "histogram2d"
           }
          ],
          "histogram2dcontour": [
           {
            "colorbar": {
             "outlinewidth": 0,
             "ticks": ""
            },
            "colorscale": [
             [
              0,
              "#0d0887"
             ],
             [
              0.1111111111111111,
              "#46039f"
             ],
             [
              0.2222222222222222,
              "#7201a8"
             ],
             [
              0.3333333333333333,
              "#9c179e"
             ],
             [
              0.4444444444444444,
              "#bd3786"
             ],
             [
              0.5555555555555556,
              "#d8576b"
             ],
             [
              0.6666666666666666,
              "#ed7953"
             ],
             [
              0.7777777777777778,
              "#fb9f3a"
             ],
             [
              0.8888888888888888,
              "#fdca26"
             ],
             [
              1,
              "#f0f921"
             ]
            ],
            "type": "histogram2dcontour"
           }
          ],
          "mesh3d": [
           {
            "colorbar": {
             "outlinewidth": 0,
             "ticks": ""
            },
            "type": "mesh3d"
           }
          ],
          "parcoords": [
           {
            "line": {
             "colorbar": {
              "outlinewidth": 0,
              "ticks": ""
             }
            },
            "type": "parcoords"
           }
          ],
          "pie": [
           {
            "automargin": true,
            "type": "pie"
           }
          ],
          "scatter": [
           {
            "marker": {
             "colorbar": {
              "outlinewidth": 0,
              "ticks": ""
             }
            },
            "type": "scatter"
           }
          ],
          "scatter3d": [
           {
            "line": {
             "colorbar": {
              "outlinewidth": 0,
              "ticks": ""
             }
            },
            "marker": {
             "colorbar": {
              "outlinewidth": 0,
              "ticks": ""
             }
            },
            "type": "scatter3d"
           }
          ],
          "scattercarpet": [
           {
            "marker": {
             "colorbar": {
              "outlinewidth": 0,
              "ticks": ""
             }
            },
            "type": "scattercarpet"
           }
          ],
          "scattergeo": [
           {
            "marker": {
             "colorbar": {
              "outlinewidth": 0,
              "ticks": ""
             }
            },
            "type": "scattergeo"
           }
          ],
          "scattergl": [
           {
            "marker": {
             "colorbar": {
              "outlinewidth": 0,
              "ticks": ""
             }
            },
            "type": "scattergl"
           }
          ],
          "scattermapbox": [
           {
            "marker": {
             "colorbar": {
              "outlinewidth": 0,
              "ticks": ""
             }
            },
            "type": "scattermapbox"
           }
          ],
          "scatterpolar": [
           {
            "marker": {
             "colorbar": {
              "outlinewidth": 0,
              "ticks": ""
             }
            },
            "type": "scatterpolar"
           }
          ],
          "scatterpolargl": [
           {
            "marker": {
             "colorbar": {
              "outlinewidth": 0,
              "ticks": ""
             }
            },
            "type": "scatterpolargl"
           }
          ],
          "scatterternary": [
           {
            "marker": {
             "colorbar": {
              "outlinewidth": 0,
              "ticks": ""
             }
            },
            "type": "scatterternary"
           }
          ],
          "surface": [
           {
            "colorbar": {
             "outlinewidth": 0,
             "ticks": ""
            },
            "colorscale": [
             [
              0,
              "#0d0887"
             ],
             [
              0.1111111111111111,
              "#46039f"
             ],
             [
              0.2222222222222222,
              "#7201a8"
             ],
             [
              0.3333333333333333,
              "#9c179e"
             ],
             [
              0.4444444444444444,
              "#bd3786"
             ],
             [
              0.5555555555555556,
              "#d8576b"
             ],
             [
              0.6666666666666666,
              "#ed7953"
             ],
             [
              0.7777777777777778,
              "#fb9f3a"
             ],
             [
              0.8888888888888888,
              "#fdca26"
             ],
             [
              1,
              "#f0f921"
             ]
            ],
            "type": "surface"
           }
          ],
          "table": [
           {
            "cells": {
             "fill": {
              "color": "#EBF0F8"
             },
             "line": {
              "color": "white"
             }
            },
            "header": {
             "fill": {
              "color": "#C8D4E3"
             },
             "line": {
              "color": "white"
             }
            },
            "type": "table"
           }
          ]
         },
         "layout": {
          "annotationdefaults": {
           "arrowcolor": "#2a3f5f",
           "arrowhead": 0,
           "arrowwidth": 1
          },
          "autotypenumbers": "strict",
          "coloraxis": {
           "colorbar": {
            "outlinewidth": 0,
            "ticks": ""
           }
          },
          "colorscale": {
           "diverging": [
            [
             0,
             "#8e0152"
            ],
            [
             0.1,
             "#c51b7d"
            ],
            [
             0.2,
             "#de77ae"
            ],
            [
             0.3,
             "#f1b6da"
            ],
            [
             0.4,
             "#fde0ef"
            ],
            [
             0.5,
             "#f7f7f7"
            ],
            [
             0.6,
             "#e6f5d0"
            ],
            [
             0.7,
             "#b8e186"
            ],
            [
             0.8,
             "#7fbc41"
            ],
            [
             0.9,
             "#4d9221"
            ],
            [
             1,
             "#276419"
            ]
           ],
           "sequential": [
            [
             0,
             "#0d0887"
            ],
            [
             0.1111111111111111,
             "#46039f"
            ],
            [
             0.2222222222222222,
             "#7201a8"
            ],
            [
             0.3333333333333333,
             "#9c179e"
            ],
            [
             0.4444444444444444,
             "#bd3786"
            ],
            [
             0.5555555555555556,
             "#d8576b"
            ],
            [
             0.6666666666666666,
             "#ed7953"
            ],
            [
             0.7777777777777778,
             "#fb9f3a"
            ],
            [
             0.8888888888888888,
             "#fdca26"
            ],
            [
             1,
             "#f0f921"
            ]
           ],
           "sequentialminus": [
            [
             0,
             "#0d0887"
            ],
            [
             0.1111111111111111,
             "#46039f"
            ],
            [
             0.2222222222222222,
             "#7201a8"
            ],
            [
             0.3333333333333333,
             "#9c179e"
            ],
            [
             0.4444444444444444,
             "#bd3786"
            ],
            [
             0.5555555555555556,
             "#d8576b"
            ],
            [
             0.6666666666666666,
             "#ed7953"
            ],
            [
             0.7777777777777778,
             "#fb9f3a"
            ],
            [
             0.8888888888888888,
             "#fdca26"
            ],
            [
             1,
             "#f0f921"
            ]
           ]
          },
          "colorway": [
           "#636efa",
           "#EF553B",
           "#00cc96",
           "#ab63fa",
           "#FFA15A",
           "#19d3f3",
           "#FF6692",
           "#B6E880",
           "#FF97FF",
           "#FECB52"
          ],
          "font": {
           "color": "#2a3f5f"
          },
          "geo": {
           "bgcolor": "white",
           "lakecolor": "white",
           "landcolor": "#E5ECF6",
           "showlakes": true,
           "showland": true,
           "subunitcolor": "white"
          },
          "hoverlabel": {
           "align": "left"
          },
          "hovermode": "closest",
          "mapbox": {
           "style": "light"
          },
          "paper_bgcolor": "white",
          "plot_bgcolor": "#E5ECF6",
          "polar": {
           "angularaxis": {
            "gridcolor": "white",
            "linecolor": "white",
            "ticks": ""
           },
           "bgcolor": "#E5ECF6",
           "radialaxis": {
            "gridcolor": "white",
            "linecolor": "white",
            "ticks": ""
           }
          },
          "scene": {
           "xaxis": {
            "backgroundcolor": "#E5ECF6",
            "gridcolor": "white",
            "gridwidth": 2,
            "linecolor": "white",
            "showbackground": true,
            "ticks": "",
            "zerolinecolor": "white"
           },
           "yaxis": {
            "backgroundcolor": "#E5ECF6",
            "gridcolor": "white",
            "gridwidth": 2,
            "linecolor": "white",
            "showbackground": true,
            "ticks": "",
            "zerolinecolor": "white"
           },
           "zaxis": {
            "backgroundcolor": "#E5ECF6",
            "gridcolor": "white",
            "gridwidth": 2,
            "linecolor": "white",
            "showbackground": true,
            "ticks": "",
            "zerolinecolor": "white"
           }
          },
          "shapedefaults": {
           "line": {
            "color": "#2a3f5f"
           }
          },
          "ternary": {
           "aaxis": {
            "gridcolor": "white",
            "linecolor": "white",
            "ticks": ""
           },
           "baxis": {
            "gridcolor": "white",
            "linecolor": "white",
            "ticks": ""
           },
           "bgcolor": "#E5ECF6",
           "caxis": {
            "gridcolor": "white",
            "linecolor": "white",
            "ticks": ""
           }
          },
          "title": {
           "x": 0.05
          },
          "xaxis": {
           "automargin": true,
           "gridcolor": "white",
           "linecolor": "white",
           "ticks": "",
           "title": {
            "standoff": 15
           },
           "zerolinecolor": "white",
           "zerolinewidth": 2
          },
          "yaxis": {
           "automargin": true,
           "gridcolor": "white",
           "linecolor": "white",
           "ticks": "",
           "title": {
            "standoff": 15
           },
           "zerolinecolor": "white",
           "zerolinewidth": 2
          }
         }
        }
       }
      }
     },
     "metadata": {},
     "output_type": "display_data"
    }
   ],
   "source": [
    "# Donut chart popular by engagement and influencer\n",
    "# create pivot table to be input of donut chart\n",
    "df_channel_engagement = df_all.loc[:, ['channel', 'account_id', 'new_engagement']]\n",
    "\n",
    "df_channel_engagement = df_channel_engagement.groupby(['channel']).agg({'account_id': pd.Series.nunique, 'new_engagement': 'sum'}).sort_index(ascending=True).reset_index()\n",
    "\n",
    "df_channel_engagement\n",
    "df_channel_engagement.to_csv('df_channel_engagement.csv', index=False ,encoding='utf-8')"
   ]
  },
  {
   "cell_type": "code",
   "execution_count": 92,
   "metadata": {},
   "outputs": [
    {
     "data": {
      "application/vnd.plotly.v1+json": {
       "config": {
        "plotlyServerURL": "https://plot.ly"
       },
       "data": [
        {
         "alignmentgroup": "True",
         "hovertemplate": "post_type=%{y}<br>avg_engagement=%{text}<extra></extra>",
         "legendgroup": "video",
         "marker": {
          "color": "#9400D3",
          "pattern": {
           "shape": ""
          }
         },
         "name": "video",
         "offsetgroup": "video",
         "orientation": "h",
         "showlegend": true,
         "text": [
          57027.94877465361
         ],
         "textposition": "inside",
         "texttemplate": "%{text:.2s}",
         "type": "bar",
         "x": [
          57027.94877465361
         ],
         "xaxis": "x",
         "y": [
          "video"
         ],
         "yaxis": "y"
        },
        {
         "alignmentgroup": "True",
         "hovertemplate": "post_type=%{y}<br>avg_engagement=%{text}<extra></extra>",
         "legendgroup": "image",
         "marker": {
          "color": "#A9A9A9",
          "pattern": {
           "shape": ""
          }
         },
         "name": "image",
         "offsetgroup": "image",
         "orientation": "h",
         "showlegend": true,
         "text": [
          35924.956679286915
         ],
         "textposition": "inside",
         "texttemplate": "%{text:.2s}",
         "type": "bar",
         "x": [
          35924.956679286915
         ],
         "xaxis": "x",
         "y": [
          "image"
         ],
         "yaxis": "y"
        }
       ],
       "layout": {
        "barmode": "relative",
        "legend": {
         "title": {
          "text": "post_type"
         },
         "tracegroupgap": 0
        },
        "margin": {
         "t": 60
        },
        "template": {
         "data": {
          "bar": [
           {
            "error_x": {
             "color": "#2a3f5f"
            },
            "error_y": {
             "color": "#2a3f5f"
            },
            "marker": {
             "line": {
              "color": "#E5ECF6",
              "width": 0.5
             },
             "pattern": {
              "fillmode": "overlay",
              "size": 10,
              "solidity": 0.2
             }
            },
            "type": "bar"
           }
          ],
          "barpolar": [
           {
            "marker": {
             "line": {
              "color": "#E5ECF6",
              "width": 0.5
             },
             "pattern": {
              "fillmode": "overlay",
              "size": 10,
              "solidity": 0.2
             }
            },
            "type": "barpolar"
           }
          ],
          "carpet": [
           {
            "aaxis": {
             "endlinecolor": "#2a3f5f",
             "gridcolor": "white",
             "linecolor": "white",
             "minorgridcolor": "white",
             "startlinecolor": "#2a3f5f"
            },
            "baxis": {
             "endlinecolor": "#2a3f5f",
             "gridcolor": "white",
             "linecolor": "white",
             "minorgridcolor": "white",
             "startlinecolor": "#2a3f5f"
            },
            "type": "carpet"
           }
          ],
          "choropleth": [
           {
            "colorbar": {
             "outlinewidth": 0,
             "ticks": ""
            },
            "type": "choropleth"
           }
          ],
          "contour": [
           {
            "colorbar": {
             "outlinewidth": 0,
             "ticks": ""
            },
            "colorscale": [
             [
              0,
              "#0d0887"
             ],
             [
              0.1111111111111111,
              "#46039f"
             ],
             [
              0.2222222222222222,
              "#7201a8"
             ],
             [
              0.3333333333333333,
              "#9c179e"
             ],
             [
              0.4444444444444444,
              "#bd3786"
             ],
             [
              0.5555555555555556,
              "#d8576b"
             ],
             [
              0.6666666666666666,
              "#ed7953"
             ],
             [
              0.7777777777777778,
              "#fb9f3a"
             ],
             [
              0.8888888888888888,
              "#fdca26"
             ],
             [
              1,
              "#f0f921"
             ]
            ],
            "type": "contour"
           }
          ],
          "contourcarpet": [
           {
            "colorbar": {
             "outlinewidth": 0,
             "ticks": ""
            },
            "type": "contourcarpet"
           }
          ],
          "heatmap": [
           {
            "colorbar": {
             "outlinewidth": 0,
             "ticks": ""
            },
            "colorscale": [
             [
              0,
              "#0d0887"
             ],
             [
              0.1111111111111111,
              "#46039f"
             ],
             [
              0.2222222222222222,
              "#7201a8"
             ],
             [
              0.3333333333333333,
              "#9c179e"
             ],
             [
              0.4444444444444444,
              "#bd3786"
             ],
             [
              0.5555555555555556,
              "#d8576b"
             ],
             [
              0.6666666666666666,
              "#ed7953"
             ],
             [
              0.7777777777777778,
              "#fb9f3a"
             ],
             [
              0.8888888888888888,
              "#fdca26"
             ],
             [
              1,
              "#f0f921"
             ]
            ],
            "type": "heatmap"
           }
          ],
          "heatmapgl": [
           {
            "colorbar": {
             "outlinewidth": 0,
             "ticks": ""
            },
            "colorscale": [
             [
              0,
              "#0d0887"
             ],
             [
              0.1111111111111111,
              "#46039f"
             ],
             [
              0.2222222222222222,
              "#7201a8"
             ],
             [
              0.3333333333333333,
              "#9c179e"
             ],
             [
              0.4444444444444444,
              "#bd3786"
             ],
             [
              0.5555555555555556,
              "#d8576b"
             ],
             [
              0.6666666666666666,
              "#ed7953"
             ],
             [
              0.7777777777777778,
              "#fb9f3a"
             ],
             [
              0.8888888888888888,
              "#fdca26"
             ],
             [
              1,
              "#f0f921"
             ]
            ],
            "type": "heatmapgl"
           }
          ],
          "histogram": [
           {
            "marker": {
             "pattern": {
              "fillmode": "overlay",
              "size": 10,
              "solidity": 0.2
             }
            },
            "type": "histogram"
           }
          ],
          "histogram2d": [
           {
            "colorbar": {
             "outlinewidth": 0,
             "ticks": ""
            },
            "colorscale": [
             [
              0,
              "#0d0887"
             ],
             [
              0.1111111111111111,
              "#46039f"
             ],
             [
              0.2222222222222222,
              "#7201a8"
             ],
             [
              0.3333333333333333,
              "#9c179e"
             ],
             [
              0.4444444444444444,
              "#bd3786"
             ],
             [
              0.5555555555555556,
              "#d8576b"
             ],
             [
              0.6666666666666666,
              "#ed7953"
             ],
             [
              0.7777777777777778,
              "#fb9f3a"
             ],
             [
              0.8888888888888888,
              "#fdca26"
             ],
             [
              1,
              "#f0f921"
             ]
            ],
            "type": "histogram2d"
           }
          ],
          "histogram2dcontour": [
           {
            "colorbar": {
             "outlinewidth": 0,
             "ticks": ""
            },
            "colorscale": [
             [
              0,
              "#0d0887"
             ],
             [
              0.1111111111111111,
              "#46039f"
             ],
             [
              0.2222222222222222,
              "#7201a8"
             ],
             [
              0.3333333333333333,
              "#9c179e"
             ],
             [
              0.4444444444444444,
              "#bd3786"
             ],
             [
              0.5555555555555556,
              "#d8576b"
             ],
             [
              0.6666666666666666,
              "#ed7953"
             ],
             [
              0.7777777777777778,
              "#fb9f3a"
             ],
             [
              0.8888888888888888,
              "#fdca26"
             ],
             [
              1,
              "#f0f921"
             ]
            ],
            "type": "histogram2dcontour"
           }
          ],
          "mesh3d": [
           {
            "colorbar": {
             "outlinewidth": 0,
             "ticks": ""
            },
            "type": "mesh3d"
           }
          ],
          "parcoords": [
           {
            "line": {
             "colorbar": {
              "outlinewidth": 0,
              "ticks": ""
             }
            },
            "type": "parcoords"
           }
          ],
          "pie": [
           {
            "automargin": true,
            "type": "pie"
           }
          ],
          "scatter": [
           {
            "marker": {
             "colorbar": {
              "outlinewidth": 0,
              "ticks": ""
             }
            },
            "type": "scatter"
           }
          ],
          "scatter3d": [
           {
            "line": {
             "colorbar": {
              "outlinewidth": 0,
              "ticks": ""
             }
            },
            "marker": {
             "colorbar": {
              "outlinewidth": 0,
              "ticks": ""
             }
            },
            "type": "scatter3d"
           }
          ],
          "scattercarpet": [
           {
            "marker": {
             "colorbar": {
              "outlinewidth": 0,
              "ticks": ""
             }
            },
            "type": "scattercarpet"
           }
          ],
          "scattergeo": [
           {
            "marker": {
             "colorbar": {
              "outlinewidth": 0,
              "ticks": ""
             }
            },
            "type": "scattergeo"
           }
          ],
          "scattergl": [
           {
            "marker": {
             "colorbar": {
              "outlinewidth": 0,
              "ticks": ""
             }
            },
            "type": "scattergl"
           }
          ],
          "scattermapbox": [
           {
            "marker": {
             "colorbar": {
              "outlinewidth": 0,
              "ticks": ""
             }
            },
            "type": "scattermapbox"
           }
          ],
          "scatterpolar": [
           {
            "marker": {
             "colorbar": {
              "outlinewidth": 0,
              "ticks": ""
             }
            },
            "type": "scatterpolar"
           }
          ],
          "scatterpolargl": [
           {
            "marker": {
             "colorbar": {
              "outlinewidth": 0,
              "ticks": ""
             }
            },
            "type": "scatterpolargl"
           }
          ],
          "scatterternary": [
           {
            "marker": {
             "colorbar": {
              "outlinewidth": 0,
              "ticks": ""
             }
            },
            "type": "scatterternary"
           }
          ],
          "surface": [
           {
            "colorbar": {
             "outlinewidth": 0,
             "ticks": ""
            },
            "colorscale": [
             [
              0,
              "#0d0887"
             ],
             [
              0.1111111111111111,
              "#46039f"
             ],
             [
              0.2222222222222222,
              "#7201a8"
             ],
             [
              0.3333333333333333,
              "#9c179e"
             ],
             [
              0.4444444444444444,
              "#bd3786"
             ],
             [
              0.5555555555555556,
              "#d8576b"
             ],
             [
              0.6666666666666666,
              "#ed7953"
             ],
             [
              0.7777777777777778,
              "#fb9f3a"
             ],
             [
              0.8888888888888888,
              "#fdca26"
             ],
             [
              1,
              "#f0f921"
             ]
            ],
            "type": "surface"
           }
          ],
          "table": [
           {
            "cells": {
             "fill": {
              "color": "#EBF0F8"
             },
             "line": {
              "color": "white"
             }
            },
            "header": {
             "fill": {
              "color": "#C8D4E3"
             },
             "line": {
              "color": "white"
             }
            },
            "type": "table"
           }
          ]
         },
         "layout": {
          "annotationdefaults": {
           "arrowcolor": "#2a3f5f",
           "arrowhead": 0,
           "arrowwidth": 1
          },
          "autotypenumbers": "strict",
          "coloraxis": {
           "colorbar": {
            "outlinewidth": 0,
            "ticks": ""
           }
          },
          "colorscale": {
           "diverging": [
            [
             0,
             "#8e0152"
            ],
            [
             0.1,
             "#c51b7d"
            ],
            [
             0.2,
             "#de77ae"
            ],
            [
             0.3,
             "#f1b6da"
            ],
            [
             0.4,
             "#fde0ef"
            ],
            [
             0.5,
             "#f7f7f7"
            ],
            [
             0.6,
             "#e6f5d0"
            ],
            [
             0.7,
             "#b8e186"
            ],
            [
             0.8,
             "#7fbc41"
            ],
            [
             0.9,
             "#4d9221"
            ],
            [
             1,
             "#276419"
            ]
           ],
           "sequential": [
            [
             0,
             "#0d0887"
            ],
            [
             0.1111111111111111,
             "#46039f"
            ],
            [
             0.2222222222222222,
             "#7201a8"
            ],
            [
             0.3333333333333333,
             "#9c179e"
            ],
            [
             0.4444444444444444,
             "#bd3786"
            ],
            [
             0.5555555555555556,
             "#d8576b"
            ],
            [
             0.6666666666666666,
             "#ed7953"
            ],
            [
             0.7777777777777778,
             "#fb9f3a"
            ],
            [
             0.8888888888888888,
             "#fdca26"
            ],
            [
             1,
             "#f0f921"
            ]
           ],
           "sequentialminus": [
            [
             0,
             "#0d0887"
            ],
            [
             0.1111111111111111,
             "#46039f"
            ],
            [
             0.2222222222222222,
             "#7201a8"
            ],
            [
             0.3333333333333333,
             "#9c179e"
            ],
            [
             0.4444444444444444,
             "#bd3786"
            ],
            [
             0.5555555555555556,
             "#d8576b"
            ],
            [
             0.6666666666666666,
             "#ed7953"
            ],
            [
             0.7777777777777778,
             "#fb9f3a"
            ],
            [
             0.8888888888888888,
             "#fdca26"
            ],
            [
             1,
             "#f0f921"
            ]
           ]
          },
          "colorway": [
           "#636efa",
           "#EF553B",
           "#00cc96",
           "#ab63fa",
           "#FFA15A",
           "#19d3f3",
           "#FF6692",
           "#B6E880",
           "#FF97FF",
           "#FECB52"
          ],
          "font": {
           "color": "#2a3f5f"
          },
          "geo": {
           "bgcolor": "white",
           "lakecolor": "white",
           "landcolor": "#E5ECF6",
           "showlakes": true,
           "showland": true,
           "subunitcolor": "white"
          },
          "hoverlabel": {
           "align": "left"
          },
          "hovermode": "closest",
          "mapbox": {
           "style": "light"
          },
          "paper_bgcolor": "white",
          "plot_bgcolor": "#E5ECF6",
          "polar": {
           "angularaxis": {
            "gridcolor": "white",
            "linecolor": "white",
            "ticks": ""
           },
           "bgcolor": "#E5ECF6",
           "radialaxis": {
            "gridcolor": "white",
            "linecolor": "white",
            "ticks": ""
           }
          },
          "scene": {
           "xaxis": {
            "backgroundcolor": "#E5ECF6",
            "gridcolor": "white",
            "gridwidth": 2,
            "linecolor": "white",
            "showbackground": true,
            "ticks": "",
            "zerolinecolor": "white"
           },
           "yaxis": {
            "backgroundcolor": "#E5ECF6",
            "gridcolor": "white",
            "gridwidth": 2,
            "linecolor": "white",
            "showbackground": true,
            "ticks": "",
            "zerolinecolor": "white"
           },
           "zaxis": {
            "backgroundcolor": "#E5ECF6",
            "gridcolor": "white",
            "gridwidth": 2,
            "linecolor": "white",
            "showbackground": true,
            "ticks": "",
            "zerolinecolor": "white"
           }
          },
          "shapedefaults": {
           "line": {
            "color": "#2a3f5f"
           }
          },
          "ternary": {
           "aaxis": {
            "gridcolor": "white",
            "linecolor": "white",
            "ticks": ""
           },
           "baxis": {
            "gridcolor": "white",
            "linecolor": "white",
            "ticks": ""
           },
           "bgcolor": "#E5ECF6",
           "caxis": {
            "gridcolor": "white",
            "linecolor": "white",
            "ticks": ""
           }
          },
          "title": {
           "x": 0.05
          },
          "xaxis": {
           "automargin": true,
           "gridcolor": "white",
           "linecolor": "white",
           "ticks": "",
           "title": {
            "standoff": 15
           },
           "zerolinecolor": "white",
           "zerolinewidth": 2
          },
          "yaxis": {
           "automargin": true,
           "gridcolor": "white",
           "linecolor": "white",
           "ticks": "",
           "title": {
            "standoff": 15
           },
           "zerolinecolor": "white",
           "zerolinewidth": 2
          }
         }
        },
        "uniformtext": {
         "minsize": 15,
         "mode": "hide"
        },
        "xaxis": {
         "anchor": "y",
         "domain": [
          0,
          1
         ],
         "title": {
          "text": "avg_engagement"
         }
        },
        "yaxis": {
         "anchor": "x",
         "categoryarray": [
          "image",
          "video"
         ],
         "categoryorder": "array",
         "domain": [
          0,
          1
         ],
         "title": {
          "text": "post_type"
         }
        }
       }
      }
     },
     "metadata": {},
     "output_type": "display_data"
    }
   ],
   "source": [
    "# Bar chart Video vs Image posting\n",
    "df_ig_img_video = df_ig.loc[:, ['post_type', 'new_engagement', 'channel']]\n",
    "\n",
    "df_ig_img_video = df_ig_img_video.groupby('post_type').agg({'new_engagement': 'sum', 'channel': 'count'}).reset_index()\n",
    "df_ig_img_video = df_ig_img_video.rename(columns={'channel': 'post_count'})\n",
    "df_ig_img_video['avg_engagement'] =  df_ig_img_video['new_engagement'] / df_ig_img_video['post_count']\n",
    "df_ig_img_video = df_ig_img_video.sort_values(by='avg_engagement',ascending=False)\n",
    "\n",
    "df_ig_img_video.to_csv('df_ig_img_video.csv', index=False, encoding='utf-8')\n"
   ]
  },
  {
   "cell_type": "code",
   "execution_count": 5,
   "metadata": {},
   "outputs": [
    {
     "data": {
      "text/html": [
       "<div>\n",
       "<style scoped>\n",
       "    .dataframe tbody tr th:only-of-type {\n",
       "        vertical-align: middle;\n",
       "    }\n",
       "\n",
       "    .dataframe tbody tr th {\n",
       "        vertical-align: top;\n",
       "    }\n",
       "\n",
       "    .dataframe thead th {\n",
       "        text-align: right;\n",
       "    }\n",
       "</style>\n",
       "<table border=\"1\" class=\"dataframe\">\n",
       "  <thead>\n",
       "    <tr style=\"text-align: right;\">\n",
       "      <th></th>\n",
       "      <th>account_id</th>\n",
       "      <th>type</th>\n",
       "      <th>value</th>\n",
       "      <th>account_display_name</th>\n",
       "      <th>category</th>\n",
       "      <th>fan_range</th>\n",
       "    </tr>\n",
       "  </thead>\n",
       "  <tbody>\n",
       "    <tr>\n",
       "      <th>0</th>\n",
       "      <td>1003818116369693</td>\n",
       "      <td>total_engagement</td>\n",
       "      <td>3641397</td>\n",
       "      <td>The Snack</td>\n",
       "      <td>Blogger/Influencer</td>\n",
       "      <td>0.5M-1M</td>\n",
       "    </tr>\n",
       "    <tr>\n",
       "      <th>1</th>\n",
       "      <td>1003818116369693</td>\n",
       "      <td>reaction</td>\n",
       "      <td>3303091</td>\n",
       "      <td>The Snack</td>\n",
       "      <td>Blogger/Influencer</td>\n",
       "      <td>0.5M-1M</td>\n",
       "    </tr>\n",
       "    <tr>\n",
       "      <th>2</th>\n",
       "      <td>1003818116369693</td>\n",
       "      <td>share</td>\n",
       "      <td>223715</td>\n",
       "      <td>The Snack</td>\n",
       "      <td>Blogger/Influencer</td>\n",
       "      <td>0.5M-1M</td>\n",
       "    </tr>\n",
       "    <tr>\n",
       "      <th>3</th>\n",
       "      <td>1003818116369693</td>\n",
       "      <td>comment</td>\n",
       "      <td>95500</td>\n",
       "      <td>The Snack</td>\n",
       "      <td>Blogger/Influencer</td>\n",
       "      <td>0.5M-1M</td>\n",
       "    </tr>\n",
       "    <tr>\n",
       "      <th>4</th>\n",
       "      <td>1003818116369693</td>\n",
       "      <td>tag_friend</td>\n",
       "      <td>17997</td>\n",
       "      <td>The Snack</td>\n",
       "      <td>Blogger/Influencer</td>\n",
       "      <td>0.5M-1M</td>\n",
       "    </tr>\n",
       "    <tr>\n",
       "      <th>...</th>\n",
       "      <td>...</td>\n",
       "      <td>...</td>\n",
       "      <td>...</td>\n",
       "      <td>...</td>\n",
       "      <td>...</td>\n",
       "      <td>...</td>\n",
       "    </tr>\n",
       "    <tr>\n",
       "      <th>3223</th>\n",
       "      <td>993669644013200</td>\n",
       "      <td>reaction</td>\n",
       "      <td>110717</td>\n",
       "      <td>นี่แหละแฟนเรา</td>\n",
       "      <td>Writer and Quote</td>\n",
       "      <td>0.5M-1M</td>\n",
       "    </tr>\n",
       "    <tr>\n",
       "      <th>3224</th>\n",
       "      <td>993669644013200</td>\n",
       "      <td>share</td>\n",
       "      <td>6158</td>\n",
       "      <td>นี่แหละแฟนเรา</td>\n",
       "      <td>Writer and Quote</td>\n",
       "      <td>0.5M-1M</td>\n",
       "    </tr>\n",
       "    <tr>\n",
       "      <th>3225</th>\n",
       "      <td>993669644013200</td>\n",
       "      <td>comment</td>\n",
       "      <td>8962</td>\n",
       "      <td>นี่แหละแฟนเรา</td>\n",
       "      <td>Writer and Quote</td>\n",
       "      <td>0.5M-1M</td>\n",
       "    </tr>\n",
       "    <tr>\n",
       "      <th>3226</th>\n",
       "      <td>993669644013200</td>\n",
       "      <td>tag_friend</td>\n",
       "      <td>7236</td>\n",
       "      <td>นี่แหละแฟนเรา</td>\n",
       "      <td>Writer and Quote</td>\n",
       "      <td>0.5M-1M</td>\n",
       "    </tr>\n",
       "    <tr>\n",
       "      <th>3227</th>\n",
       "      <td>993669644013200</td>\n",
       "      <td>purchase_intention</td>\n",
       "      <td>25</td>\n",
       "      <td>นี่แหละแฟนเรา</td>\n",
       "      <td>Writer and Quote</td>\n",
       "      <td>0.5M-1M</td>\n",
       "    </tr>\n",
       "  </tbody>\n",
       "</table>\n",
       "<p>3228 rows × 6 columns</p>\n",
       "</div>"
      ],
      "text/plain": [
       "            account_id                type    value account_display_name  \\\n",
       "0     1003818116369693    total_engagement  3641397            The Snack   \n",
       "1     1003818116369693            reaction  3303091            The Snack   \n",
       "2     1003818116369693               share   223715            The Snack   \n",
       "3     1003818116369693             comment    95500            The Snack   \n",
       "4     1003818116369693          tag_friend    17997            The Snack   \n",
       "...                ...                 ...      ...                  ...   \n",
       "3223   993669644013200            reaction   110717        นี่แหละแฟนเรา   \n",
       "3224   993669644013200               share     6158        นี่แหละแฟนเรา   \n",
       "3225   993669644013200             comment     8962        นี่แหละแฟนเรา   \n",
       "3226   993669644013200          tag_friend     7236        นี่แหละแฟนเรา   \n",
       "3227   993669644013200  purchase_intention       25        นี่แหละแฟนเรา   \n",
       "\n",
       "                category fan_range  \n",
       "0     Blogger/Influencer   0.5M-1M  \n",
       "1     Blogger/Influencer   0.5M-1M  \n",
       "2     Blogger/Influencer   0.5M-1M  \n",
       "3     Blogger/Influencer   0.5M-1M  \n",
       "4     Blogger/Influencer   0.5M-1M  \n",
       "...                  ...       ...  \n",
       "3223    Writer and Quote   0.5M-1M  \n",
       "3224    Writer and Quote   0.5M-1M  \n",
       "3225    Writer and Quote   0.5M-1M  \n",
       "3226    Writer and Quote   0.5M-1M  \n",
       "3227    Writer and Quote   0.5M-1M  \n",
       "\n",
       "[3228 rows x 6 columns]"
      ]
     },
     "execution_count": 5,
     "metadata": {},
     "output_type": "execute_result"
    }
   ],
   "source": [
    "# Funnel chart for purchasing intention\n",
    "df_fb_funnel = df_fb.loc[:, ['account_id', 'new_engagement', 'reaction', 'like', 'love', 'wow', 'haha', 'share', 'comment', 'tag_friend', 'purchase_intention']]\n",
    "\n",
    "# sum by account_id\n",
    "df_fb_funnel = df_fb_funnel.groupby('account_id').agg(sum).reset_index()\n",
    "\n",
    "df_fb_funnel['total_engagement'] = df_fb_funnel['new_engagement'] + df_fb_funnel['tag_friend'] + df_fb_funnel['purchase_intention']\n",
    "\n",
    "df_fb_funnel = df_fb_funnel[['account_id', 'total_engagement', 'reaction', 'share', 'comment', 'tag_friend', 'purchase_intention']]\n",
    "\n",
    "# use pd.melt to change wide format to long format\n",
    "df_fb_funnel = pd.melt(df_fb_funnel, id_vars='account_id', value_vars=['total_engagement', 'reaction', 'share', 'comment', 'tag_friend', 'purchase_intention'], var_name='type')\n",
    "\n",
    "\n",
    "\n",
    "# merge with account_display_name\n",
    "df_fb_funnel = df_fb_funnel.merge(df_acc, left_on='account_id', right_on='account_id', how='left')\n",
    "\n",
    "# change 'type' column to be categorical type in order to sort value.\n",
    "funnel_cats = ['total_engagement', 'reaction', 'share', 'comment', 'tag_friend', 'purchase_intention']\n",
    "from pandas.api.types import CategoricalDtype\n",
    "funnel_type = CategoricalDtype(categories=funnel_cats, ordered=True)\n",
    "df_fb_funnel['type'] = df_fb_funnel['type'].astype(funnel_type)\n",
    "df_fb_funnel = df_fb_funnel.sort_values(by=['account_id', 'type'])\n",
    "\n",
    "# merge with category and fanrage\n",
    "df_fb_funnel = df_fb_funnel.merge(right=df_cat_fanrange[['account_display_name', 'category', 'fan_range']], left_on='account_display_name', right_on='account_display_name', how='inner')\n",
    "\n",
    "\n",
    "# export to csv\n",
    "df_fb_funnel.to_csv('df_fb_funnel.csv', index=False, encoding='utf-8')"
   ]
  },
  {
   "cell_type": "code",
   "execution_count": null,
   "metadata": {},
   "outputs": [],
   "source": [
    "import pandas as pd\n",
    "import re\n",
    "# function to print all the hashtags in a text\n",
    "def extract_hashtags(text):\n",
    "     \n",
    "    # the regular expression\n",
    "    regex = \"#[(\\w)|\\u0E00-\\u0E7F]+\" \n",
    "     \n",
    "    # extracting the hashtags\n",
    "    hashtag_list = re.findall(regex, text)\n",
    "    \n",
    "    return hashtag_list   \n",
    "\n",
    "def get_hashtags(rown):\n",
    "    # Check is nan     \n",
    "    if(rown['message'] != rown['message']):\n",
    "        rown['message'] = \"\"\n",
    "    return extract_hashtags(rown['message'])\n",
    "\n",
    "def get_count_frequency(df,column):\n",
    "    freq_dict = {}\n",
    "    for rown in df[column]:\n",
    "        for hashtags in rown:\n",
    "            if (hashtags in freq_dict):\n",
    "                freq_dict[hashtags] += 1\n",
    "            else:\n",
    "                freq_dict[hashtags] = 1\n",
    "    return freq_dict\n",
    "\n",
    "csv_file_list = [\"Twitter_Data.csv\"]\n",
    "\n",
    "list_of_dataframes = []\n",
    "for filename in csv_file_list:\n",
    "    list_of_dataframes.append(pd.read_csv(filename))\n",
    "\n",
    "twitter_df = pd.concat(list_of_dataframes)\n",
    "twitter_df = twitter_df.reset_index()\n",
    "\n",
    "twitter_df.info()\n",
    "twitter_df.count()\n",
    "twitter_df.shape\n",
    "\n",
    "twitter_df['hashtags'] = np.empty((len(twitter_df), 0)).tolist()\n",
    "twitter_df['hashtags'] = twitter_df.apply(get_hashtags,axis=1)\n",
    "hashtags_dict = get_count_frequency(twitter_df,'hashtags')\n",
    "hashtags_df = pd.DataFrame(\n",
    "    {'hashtags': list(hashtags_dict.keys()),\n",
    "     'total': list(hashtags_dict.values())\n",
    "    })\n",
    "hashtags_df[hashtags_df['total'] > 50].sort_values(by=['total'], ascending=False).head(5)\n",
    "hashtags_df[hashtags_df['total'] > 50].sort_values(by=['total'], ascending=False).to_csv(\"twitter_hashtags.csv\",index=False)"
   ]
  }
 ],
 "metadata": {
  "interpreter": {
   "hash": "aee8b7b246df8f9039afb4144a1f6fd8d2ca17a180786b69acc140d282b71a49"
  },
  "kernelspec": {
   "display_name": "Python 3 (ipykernel)",
   "language": "python",
   "name": "python3"
  },
  "language_info": {
   "codemirror_mode": {
    "name": "ipython",
    "version": 3
   },
   "file_extension": ".py",
   "mimetype": "text/x-python",
   "name": "python",
   "nbconvert_exporter": "python",
   "pygments_lexer": "ipython3",
   "version": "3.9.8"
  }
 },
 "nbformat": 4,
 "nbformat_minor": 2
}
